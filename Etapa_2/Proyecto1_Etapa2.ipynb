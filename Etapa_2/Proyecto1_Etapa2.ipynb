{
  "cells": [
    {
      "cell_type": "markdown",
      "metadata": {
        "id": "D4slVdw-gugj"
      },
      "source": [
        "#Imports"
      ]
    },
    {
      "cell_type": "code",
      "execution_count": 10,
      "metadata": {
        "id": "qULd2NA_BlLU"
      },
      "outputs": [],
      "source": [
        "import string\n",
        "import re\n",
        "import csv\n",
        "\n",
        "import numpy as np\n",
        "import pandas as pd\n",
        "\n",
        "from joblib import dump, load\n",
        "\n",
        "\n",
        "import nltk\n",
        "from nltk.corpus import stopwords\n",
        "from nltk.tokenize import TweetTokenizer\n",
        "\n",
        "from sklearn.model_selection import train_test_split\n",
        "from sklearn.feature_extraction.text import CountVectorizer, TfidfVectorizer\n",
        "\n",
        "from sklearn.ensemble import RandomForestClassifier\n",
        "from sklearn.compose import ColumnTransformer\n",
        "\n",
        "\n",
        "from sklearn.pipeline import Pipeline\n",
        "from sklearn.model_selection import GridSearchCV\n",
        "\n",
        "from sklearn.metrics import ConfusionMatrixDisplay, precision_score, recall_score, f1_score\n",
        "\n",
        "# Instalación de librerias\n",
        "import warnings\n",
        "warnings.filterwarnings('ignore')\n",
        "\n",
        "from scipy import stats as st\n",
        "import sys\n",
        "from pandas_profiling import ProfileReport\n",
        "import re, unicodedata\n",
        "import inflect\n",
        "from nltk import word_tokenize\n",
        "from nltk.corpus import stopwords\n",
        "from nltk.stem import LancasterStemmer, WordNetLemmatizer\n",
        "from sklearn.feature_extraction.text import TfidfTransformer\n",
        "from sklearn.model_selection import GridSearchCV, KFold\n",
        "from sklearn.feature_extraction.text import CountVectorizer\n",
        "from sklearn.pipeline import Pipeline\n",
        "from sklearn.linear_model import SGDClassifier, PassiveAggressiveClassifier\n",
        "from sklearn.naive_bayes import MultinomialNB\n",
        "from sklearn.metrics import classification_report, confusion_matrix, plot_precision_recall_curve\n",
        "import matplotlib.pyplot as plt\n",
        "\n"
      ]
    },
    {
      "cell_type": "markdown",
      "metadata": {
        "id": "wSUamiKFg-Yn"
      },
      "source": [
        "#Preparación"
      ]
    },
    {
      "cell_type": "code",
      "execution_count": 11,
      "metadata": {
        "colab": {
          "base_uri": "https://localhost:8080/"
        },
        "id": "KA6ZvO8uBrYE",
        "outputId": "c33b4f84-1078-4add-a929-f1f3da642ba9"
      },
      "outputs": [
        {
          "name": "stderr",
          "output_type": "stream",
          "text": [
            "[nltk_data] Downloading package stopwords to /root/nltk_data...\n",
            "[nltk_data]   Package stopwords is already up-to-date!\n"
          ]
        }
      ],
      "source": [
        "pd.set_option('display.max_colwidth', None)\n",
        "\n",
        "# Descargando las stopwords\n",
        "\n",
        "nltk.download('stopwords')\n",
        "stop_words = set(stopwords.words('english'))\n",
        "\n",
        "# Función para tokenizar los tweets\n",
        "def tokenizer(text):\n",
        "    tt = TweetTokenizer()\n",
        "    return tt.tokenize(text)\n",
        "\n"
      ]
    },
    {
      "cell_type": "markdown",
      "metadata": {
        "id": "wbl3vRtthAoM"
      },
      "source": [
        "## Carga de Datos"
      ]
    },
    {
      "cell_type": "code",
      "execution_count": 12,
      "metadata": {
        "colab": {
          "base_uri": "https://localhost:8080/"
        },
        "id": "l8GcN5dFDXBG",
        "outputId": "973ba8d8-0dca-42bf-e9e6-aec471cc4bd9"
      },
      "outputs": [
        {
          "data": {
            "text/plain": [
              "(195700, 2)"
            ]
          },
          "execution_count": 12,
          "metadata": {},
          "output_type": "execute_result"
        }
      ],
      "source": [
        "datos = pd.read_csv(\"/content/SuicidiosProyecto.csv\",sep=\",\",index_col=0)\n",
        "df_suicidio = datos.copy()\n",
        "df_suicidio.shape"
      ]
    },
    {
      "cell_type": "markdown",
      "metadata": {
        "id": "oxLSsX3nhQlf"
      },
      "source": [
        "Tenemos 195.700 mensajes"
      ]
    },
    {
      "cell_type": "code",
      "execution_count": 13,
      "metadata": {
        "colab": {
          "base_uri": "https://localhost:8080/",
          "height": 472
        },
        "id": "g5uh76bKDsNX",
        "outputId": "64ef643a-c323-4bb7-902b-a9ac0115060e"
      },
      "outputs": [
        {
          "data": {
            "text/html": [
              "\n",
              "  <div id=\"df-5045fa90-e70c-4e93-b554-42d3a4f88136\">\n",
              "    <div class=\"colab-df-container\">\n",
              "      <div>\n",
              "<style scoped>\n",
              "    .dataframe tbody tr th:only-of-type {\n",
              "        vertical-align: middle;\n",
              "    }\n",
              "\n",
              "    .dataframe tbody tr th {\n",
              "        vertical-align: top;\n",
              "    }\n",
              "\n",
              "    .dataframe thead th {\n",
              "        text-align: right;\n",
              "    }\n",
              "</style>\n",
              "<table border=\"1\" class=\"dataframe\">\n",
              "  <thead>\n",
              "    <tr style=\"text-align: right;\">\n",
              "      <th></th>\n",
              "      <th>text</th>\n",
              "      <th>class</th>\n",
              "    </tr>\n",
              "    <tr>\n",
              "      <th>Unnamed: 0</th>\n",
              "      <th></th>\n",
              "      <th></th>\n",
              "    </tr>\n",
              "  </thead>\n",
              "  <tbody>\n",
              "    <tr>\n",
              "      <th>98724</th>\n",
              "      <td>Oh no I used to be funny cause I was depressed. And now I’m just depressed LOL</td>\n",
              "      <td>non-suicide</td>\n",
              "    </tr>\n",
              "    <tr>\n",
              "      <th>299067</th>\n",
              "      <td>I know there’s a lot of you who feel the same way...I wanna die but I don’t want to at the same time… I don’t wanna be In pain but it’s what I really hate to feel but I like it... I really wish I could just end it right now and not have to worry for feel this way for another second but what’s stopping me? \\n\\nHell I don’t even know at this point but I keep on going… despite that Everything I’ve gone through.. I’m still alive and I say too people that no I’m gonna kms but I can’t do it... something is stopping me… \\n\\nWhy do I keep going? I mean it’s basically a form of torture and yet I’m okay with it and down play it? \\n\\nYeah I’m hurting and I hate myself but I don’t know what to do… I wanna cry… I personally have no one beside me, and if one day If I somehow I meet that special someone, I pray I won’t hurt them…\\n\\nTbh I don’t why I’m alive, I don’t wanna be but I keep on living.\\n\\nMuch love \\n- some random person on Reddit</td>\n",
              "      <td>suicide</td>\n",
              "    </tr>\n",
              "    <tr>\n",
              "      <th>207883</th>\n",
              "      <td>My grandfather is talking about the dems shipping (racist word for hispanics) to my rural WA town. Jesus christ he should just shut up now, he has gotten racist before but this is a new low.</td>\n",
              "      <td>non-suicide</td>\n",
              "    </tr>\n",
              "    <tr>\n",
              "      <th>116746</th>\n",
              "      <td>Who tryna give me da pics de thighs Filler filler filler Filler filler filler Filler filler filler Filler filler filler Filler filler filler Filler filler filler Filler filler filler pls send am desperate at horny hours</td>\n",
              "      <td>non-suicide</td>\n",
              "    </tr>\n",
              "    <tr>\n",
              "      <th>134795</th>\n",
              "      <td>listening to the song streets by doja cat makes me feel sexy about myself as a girl listening to his amazing sensual song, I feel very powerful when I listen to it and like it’s a hot song 🥲</td>\n",
              "      <td>non-suicide</td>\n",
              "    </tr>\n",
              "  </tbody>\n",
              "</table>\n",
              "</div>\n",
              "      <button class=\"colab-df-convert\" onclick=\"convertToInteractive('df-5045fa90-e70c-4e93-b554-42d3a4f88136')\"\n",
              "              title=\"Convert this dataframe to an interactive table.\"\n",
              "              style=\"display:none;\">\n",
              "        \n",
              "  <svg xmlns=\"http://www.w3.org/2000/svg\" height=\"24px\"viewBox=\"0 0 24 24\"\n",
              "       width=\"24px\">\n",
              "    <path d=\"M0 0h24v24H0V0z\" fill=\"none\"/>\n",
              "    <path d=\"M18.56 5.44l.94 2.06.94-2.06 2.06-.94-2.06-.94-.94-2.06-.94 2.06-2.06.94zm-11 1L8.5 8.5l.94-2.06 2.06-.94-2.06-.94L8.5 2.5l-.94 2.06-2.06.94zm10 10l.94 2.06.94-2.06 2.06-.94-2.06-.94-.94-2.06-.94 2.06-2.06.94z\"/><path d=\"M17.41 7.96l-1.37-1.37c-.4-.4-.92-.59-1.43-.59-.52 0-1.04.2-1.43.59L10.3 9.45l-7.72 7.72c-.78.78-.78 2.05 0 2.83L4 21.41c.39.39.9.59 1.41.59.51 0 1.02-.2 1.41-.59l7.78-7.78 2.81-2.81c.8-.78.8-2.07 0-2.86zM5.41 20L4 18.59l7.72-7.72 1.47 1.35L5.41 20z\"/>\n",
              "  </svg>\n",
              "      </button>\n",
              "      \n",
              "  <style>\n",
              "    .colab-df-container {\n",
              "      display:flex;\n",
              "      flex-wrap:wrap;\n",
              "      gap: 12px;\n",
              "    }\n",
              "\n",
              "    .colab-df-convert {\n",
              "      background-color: #E8F0FE;\n",
              "      border: none;\n",
              "      border-radius: 50%;\n",
              "      cursor: pointer;\n",
              "      display: none;\n",
              "      fill: #1967D2;\n",
              "      height: 32px;\n",
              "      padding: 0 0 0 0;\n",
              "      width: 32px;\n",
              "    }\n",
              "\n",
              "    .colab-df-convert:hover {\n",
              "      background-color: #E2EBFA;\n",
              "      box-shadow: 0px 1px 2px rgba(60, 64, 67, 0.3), 0px 1px 3px 1px rgba(60, 64, 67, 0.15);\n",
              "      fill: #174EA6;\n",
              "    }\n",
              "\n",
              "    [theme=dark] .colab-df-convert {\n",
              "      background-color: #3B4455;\n",
              "      fill: #D2E3FC;\n",
              "    }\n",
              "\n",
              "    [theme=dark] .colab-df-convert:hover {\n",
              "      background-color: #434B5C;\n",
              "      box-shadow: 0px 1px 3px 1px rgba(0, 0, 0, 0.15);\n",
              "      filter: drop-shadow(0px 1px 2px rgba(0, 0, 0, 0.3));\n",
              "      fill: #FFFFFF;\n",
              "    }\n",
              "  </style>\n",
              "\n",
              "      <script>\n",
              "        const buttonEl =\n",
              "          document.querySelector('#df-5045fa90-e70c-4e93-b554-42d3a4f88136 button.colab-df-convert');\n",
              "        buttonEl.style.display =\n",
              "          google.colab.kernel.accessAllowed ? 'block' : 'none';\n",
              "\n",
              "        async function convertToInteractive(key) {\n",
              "          const element = document.querySelector('#df-5045fa90-e70c-4e93-b554-42d3a4f88136');\n",
              "          const dataTable =\n",
              "            await google.colab.kernel.invokeFunction('convertToInteractive',\n",
              "                                                     [key], {});\n",
              "          if (!dataTable) return;\n",
              "\n",
              "          const docLinkHtml = 'Like what you see? Visit the ' +\n",
              "            '<a target=\"_blank\" href=https://colab.research.google.com/notebooks/data_table.ipynb>data table notebook</a>'\n",
              "            + ' to learn more about interactive tables.';\n",
              "          element.innerHTML = '';\n",
              "          dataTable['output_type'] = 'display_data';\n",
              "          await google.colab.output.renderOutput(dataTable, element);\n",
              "          const docLink = document.createElement('div');\n",
              "          docLink.innerHTML = docLinkHtml;\n",
              "          element.appendChild(docLink);\n",
              "        }\n",
              "      </script>\n",
              "    </div>\n",
              "  </div>\n",
              "  "
            ],
            "text/plain": [
              "                                                                                                                                                                                                                                                                                                                                                                                                                                                                                                                                                                                                                                                                                                                                                                                                                                                                                                                                                                                      text  \\\n",
              "Unnamed: 0                                                                                                                                                                                                                                                                                                                                                                                                                                                                                                                                                                                                                                                                                                                                                                                                                                                                                                                                                                                   \n",
              "98724                                                                                                                                                                                                                                                                                                                                                                                                                                                                                                                                                                                                                                                                                                                                                                                                                                                                                                       Oh no I used to be funny cause I was depressed. And now I’m just depressed LOL   \n",
              "299067      I know there’s a lot of you who feel the same way...I wanna die but I don’t want to at the same time… I don’t wanna be In pain but it’s what I really hate to feel but I like it... I really wish I could just end it right now and not have to worry for feel this way for another second but what’s stopping me? \\n\\nHell I don’t even know at this point but I keep on going… despite that Everything I’ve gone through.. I’m still alive and I say too people that no I’m gonna kms but I can’t do it... something is stopping me… \\n\\nWhy do I keep going? I mean it’s basically a form of torture and yet I’m okay with it and down play it? \\n\\nYeah I’m hurting and I hate myself but I don’t know what to do… I wanna cry… I personally have no one beside me, and if one day If I somehow I meet that special someone, I pray I won’t hurt them…\\n\\nTbh I don’t why I’m alive, I don’t wanna be but I keep on living.\\n\\nMuch love \\n- some random person on Reddit    \n",
              "207883                                                                                                                                                                                                                                                                                                                                                                                                                                                                                                                                                                                                                                                                                                                                                                                      My grandfather is talking about the dems shipping (racist word for hispanics) to my rural WA town. Jesus christ he should just shut up now, he has gotten racist before but this is a new low.   \n",
              "116746                                                                                                                                                                                                                                                                                                                                                                                                                                                                                                                                                                                                                                                                                                                                                         Who tryna give me da pics de thighs Filler filler filler Filler filler filler Filler filler filler Filler filler filler Filler filler filler Filler filler filler Filler filler filler pls send am desperate at horny hours   \n",
              "134795                                                                                                                                                                                                                                                                                                                                                                                                                                                                                                                                                                                                                                                                                                                                                                                      listening to the song streets by doja cat makes me feel sexy about myself as a girl listening to his amazing sensual song, I feel very powerful when I listen to it and like it’s a hot song 🥲   \n",
              "\n",
              "                  class  \n",
              "Unnamed: 0               \n",
              "98724       non-suicide  \n",
              "299067          suicide  \n",
              "207883      non-suicide  \n",
              "116746      non-suicide  \n",
              "134795      non-suicide  "
            ]
          },
          "execution_count": 13,
          "metadata": {},
          "output_type": "execute_result"
        }
      ],
      "source": [
        "df_suicidio.sample(5)"
      ]
    },
    {
      "cell_type": "markdown",
      "metadata": {
        "id": "s9tX3W1Khcuo"
      },
      "source": [
        "##Datos importantes"
      ]
    },
    {
      "cell_type": "code",
      "execution_count": 14,
      "metadata": {
        "colab": {
          "base_uri": "https://localhost:8080/"
        },
        "id": "KsAKrPxODzRI",
        "outputId": "c500dbd8-1dbd-43b2-bbf5-d887f108683b"
      },
      "outputs": [
        {
          "data": {
            "text/plain": [
              "non-suicide    0.562928\n",
              "suicide        0.437072\n",
              "Name: class, dtype: float64"
            ]
          },
          "execution_count": 14,
          "metadata": {},
          "output_type": "execute_result"
        }
      ],
      "source": [
        "df_suicidio['class'].value_counts(dropna = False, normalize = True)"
      ]
    },
    {
      "cell_type": "markdown",
      "metadata": {
        "id": "sb7oyiVlhWGP"
      },
      "source": [
        "Proporción de mensajes categorizados com suicidas o no suicidas"
      ]
    },
    {
      "cell_type": "markdown",
      "metadata": {
        "id": "AfpWMcqNsXDB"
      },
      "source": [
        "## Limpieza"
      ]
    },
    {
      "cell_type": "code",
      "execution_count": 15,
      "metadata": {
        "id": "9nqYV-ZxsVbg"
      },
      "outputs": [],
      "source": [
        "def clean_text_round1(text):\n",
        "    '''Make text lowercase, remove text in square brackets, remove punctuation and remove words containing numbers.'''\n",
        "    text = text.lower()\n",
        "    text = re.sub('\\[.*?¿\\]\\%', ' ', text)\n",
        "    text = re.sub('[%s]' % re.escape(string.punctuation), ' ', text)\n",
        "    text = re.sub('\\w*\\d\\w*', '', text)\n",
        "    return text\n",
        " \n",
        "round1 = lambda x: clean_text_round1(x)\n",
        " \n",
        "df_suicidio_clean = pd.DataFrame(df_suicidio.text.apply(round1))\n",
        " \n",
        "# Apply a second round of cleaning\n",
        "def clean_text_round2(text):\n",
        "    '''Get rid of some additional punctuation and non-sensical text that was missed the first time around.'''\n",
        "    text = re.sub('[‘’“”…«»]', '', text)\n",
        "    text = re.sub('\\n', ' ', text)\n",
        "    regex = '[\\\\!\\\\\"\\\\#\\\\$\\\\%\\\\&\\\\\\'\\\\(\\\\)\\\\*\\\\+\\\\,\\\\-\\\\.\\\\/\\\\:\\\\;\\\\<\\\\=\\\\>\\\\?\\\\@\\\\[\\\\\\\\\\\\]\\\\^_\\\\`\\\\{\\\\|\\\\}\\\\~]'\n",
        "    text = re.sub(regex , ' ', text)\n",
        "    # Eliminación de números\n",
        "    text = re.sub(\"\\d+\", ' ', text)\n",
        "    # Eliminación de espacios en blanco múltiples\n",
        "    text = re.sub(\"\\\\s+\", ' ', text)\n",
        "    return text\n",
        " \n",
        "round2 = lambda x: clean_text_round2(x)\n",
        "\n",
        " \n",
        "df_suicidio_clean = pd.DataFrame(df_suicidio.text.apply(round2))\n"
      ]
    },
    {
      "cell_type": "code",
      "execution_count": 16,
      "metadata": {
        "colab": {
          "base_uri": "https://localhost:8080/",
          "height": 594
        },
        "id": "u8hofnruw0fJ",
        "outputId": "171c5b17-fbd8-4bc1-906a-83b73cefa553"
      },
      "outputs": [
        {
          "data": {
            "text/html": [
              "\n",
              "  <div id=\"df-2dc3187e-52f7-43c5-950d-baeb0fd5f845\">\n",
              "    <div class=\"colab-df-container\">\n",
              "      <div>\n",
              "<style scoped>\n",
              "    .dataframe tbody tr th:only-of-type {\n",
              "        vertical-align: middle;\n",
              "    }\n",
              "\n",
              "    .dataframe tbody tr th {\n",
              "        vertical-align: top;\n",
              "    }\n",
              "\n",
              "    .dataframe thead th {\n",
              "        text-align: right;\n",
              "    }\n",
              "</style>\n",
              "<table border=\"1\" class=\"dataframe\">\n",
              "  <thead>\n",
              "    <tr style=\"text-align: right;\">\n",
              "      <th></th>\n",
              "      <th>text</th>\n",
              "      <th>class</th>\n",
              "    </tr>\n",
              "    <tr>\n",
              "      <th>Unnamed: 0</th>\n",
              "      <th></th>\n",
              "      <th></th>\n",
              "    </tr>\n",
              "  </thead>\n",
              "  <tbody>\n",
              "    <tr>\n",
              "      <th>238851</th>\n",
              "      <td>I forgot to tell you that you re cute yesterday Im sorry 😔 you re so fucking cute</td>\n",
              "      <td>non-suicide</td>\n",
              "    </tr>\n",
              "    <tr>\n",
              "      <th>72262</th>\n",
              "      <td>I bought my rope A nice thick long rope to tie around my neck to suffocate my disgusting faggot shy good for nothing self I have no one to tell so here I am Not that anyone cares anyways I m not doing it today though but soon enough I just bought the rope</td>\n",
              "      <td>suicide</td>\n",
              "    </tr>\n",
              "    <tr>\n",
              "      <th>139327</th>\n",
              "      <td>Broken since birthFear anger and the withdrawal have been a part of my life since as long as I can remember I cannot relate to anyone due to my varying personality disorders anxiety adhd depression abandonment issues as well as battling the ego and trying to get any type of empathy when deep down I have no love to give just fear that is propped up by my false sense of ego Never really had any friends hated by all Wish I never existed that would be saved a lot of people that would rejoice in not seeing my moody aggresive self centred negative petty small minded twat I wouldnt wish this on anyone having to develop shields and close off since what is the point if one cannot and instinctively maybe doesnt want to get close to others and is wallowing in nostalgia only because it is in the past and therefore not a threat I feel like a cold dead monster if only I had the courage There are a lot of good people out there I am not one of them as I am too self centred and cold</td>\n",
              "      <td>suicide</td>\n",
              "    </tr>\n",
              "    <tr>\n",
              "      <th>65098</th>\n",
              "      <td>So tired I m just so fucking tired of being the one asking for advice asking for someone to talk to me asking to be told that I mean something I m tired of being incapable of being happy on my own I m tired of being dependant on people because of mental struggles I m tired of being me and I m tired of life Idk what to do and Idk why I m even typing this I m just so alone and I don t want to do this living thing anymore</td>\n",
              "      <td>non-suicide</td>\n",
              "    </tr>\n",
              "    <tr>\n",
              "      <th>100770</th>\n",
              "      <td>How am I supposed to tell a loved one with anxiety I need to be hospitalized In the past year Ive had four attempts that brought me to a hospital I learned coping skills DBT also a long time ago Im in therapy and on meds none of it is helping me I have a plan and Im just settling things before I enact it Its all getting worse and worse but Im feeling guilty about leaving my s o who has anxiety and depression I dont know how Im supposed to reach out to them when theyre already paranoid and anxious Ill have another attempt and leave them they tell me regularly theyre afraid of it I dont know how Im supposed to help myself I dont see any point in living anymore I cant stop thinking about carrying out my plan and I am so so tired How am I supposed to tell them when theyre already a wreck about my past attempts</td>\n",
              "      <td>suicide</td>\n",
              "    </tr>\n",
              "  </tbody>\n",
              "</table>\n",
              "</div>\n",
              "      <button class=\"colab-df-convert\" onclick=\"convertToInteractive('df-2dc3187e-52f7-43c5-950d-baeb0fd5f845')\"\n",
              "              title=\"Convert this dataframe to an interactive table.\"\n",
              "              style=\"display:none;\">\n",
              "        \n",
              "  <svg xmlns=\"http://www.w3.org/2000/svg\" height=\"24px\"viewBox=\"0 0 24 24\"\n",
              "       width=\"24px\">\n",
              "    <path d=\"M0 0h24v24H0V0z\" fill=\"none\"/>\n",
              "    <path d=\"M18.56 5.44l.94 2.06.94-2.06 2.06-.94-2.06-.94-.94-2.06-.94 2.06-2.06.94zm-11 1L8.5 8.5l.94-2.06 2.06-.94-2.06-.94L8.5 2.5l-.94 2.06-2.06.94zm10 10l.94 2.06.94-2.06 2.06-.94-2.06-.94-.94-2.06-.94 2.06-2.06.94z\"/><path d=\"M17.41 7.96l-1.37-1.37c-.4-.4-.92-.59-1.43-.59-.52 0-1.04.2-1.43.59L10.3 9.45l-7.72 7.72c-.78.78-.78 2.05 0 2.83L4 21.41c.39.39.9.59 1.41.59.51 0 1.02-.2 1.41-.59l7.78-7.78 2.81-2.81c.8-.78.8-2.07 0-2.86zM5.41 20L4 18.59l7.72-7.72 1.47 1.35L5.41 20z\"/>\n",
              "  </svg>\n",
              "      </button>\n",
              "      \n",
              "  <style>\n",
              "    .colab-df-container {\n",
              "      display:flex;\n",
              "      flex-wrap:wrap;\n",
              "      gap: 12px;\n",
              "    }\n",
              "\n",
              "    .colab-df-convert {\n",
              "      background-color: #E8F0FE;\n",
              "      border: none;\n",
              "      border-radius: 50%;\n",
              "      cursor: pointer;\n",
              "      display: none;\n",
              "      fill: #1967D2;\n",
              "      height: 32px;\n",
              "      padding: 0 0 0 0;\n",
              "      width: 32px;\n",
              "    }\n",
              "\n",
              "    .colab-df-convert:hover {\n",
              "      background-color: #E2EBFA;\n",
              "      box-shadow: 0px 1px 2px rgba(60, 64, 67, 0.3), 0px 1px 3px 1px rgba(60, 64, 67, 0.15);\n",
              "      fill: #174EA6;\n",
              "    }\n",
              "\n",
              "    [theme=dark] .colab-df-convert {\n",
              "      background-color: #3B4455;\n",
              "      fill: #D2E3FC;\n",
              "    }\n",
              "\n",
              "    [theme=dark] .colab-df-convert:hover {\n",
              "      background-color: #434B5C;\n",
              "      box-shadow: 0px 1px 3px 1px rgba(0, 0, 0, 0.15);\n",
              "      filter: drop-shadow(0px 1px 2px rgba(0, 0, 0, 0.3));\n",
              "      fill: #FFFFFF;\n",
              "    }\n",
              "  </style>\n",
              "\n",
              "      <script>\n",
              "        const buttonEl =\n",
              "          document.querySelector('#df-2dc3187e-52f7-43c5-950d-baeb0fd5f845 button.colab-df-convert');\n",
              "        buttonEl.style.display =\n",
              "          google.colab.kernel.accessAllowed ? 'block' : 'none';\n",
              "\n",
              "        async function convertToInteractive(key) {\n",
              "          const element = document.querySelector('#df-2dc3187e-52f7-43c5-950d-baeb0fd5f845');\n",
              "          const dataTable =\n",
              "            await google.colab.kernel.invokeFunction('convertToInteractive',\n",
              "                                                     [key], {});\n",
              "          if (!dataTable) return;\n",
              "\n",
              "          const docLinkHtml = 'Like what you see? Visit the ' +\n",
              "            '<a target=\"_blank\" href=https://colab.research.google.com/notebooks/data_table.ipynb>data table notebook</a>'\n",
              "            + ' to learn more about interactive tables.';\n",
              "          element.innerHTML = '';\n",
              "          dataTable['output_type'] = 'display_data';\n",
              "          await google.colab.output.renderOutput(dataTable, element);\n",
              "          const docLink = document.createElement('div');\n",
              "          docLink.innerHTML = docLinkHtml;\n",
              "          element.appendChild(docLink);\n",
              "        }\n",
              "      </script>\n",
              "    </div>\n",
              "  </div>\n",
              "  "
            ],
            "text/plain": [
              "                                                                                                                                                                                                                                                                                                                                                                                                                                                                                                                                                                                                                                                                                                                                                                                                                                                                                                                                                                                                                             text  \\\n",
              "Unnamed: 0                                                                                                                                                                                                                                                                                                                                                                                                                                                                                                                                                                                                                                                                                                                                                                                                                                                                                                                                                                                                                          \n",
              "238851                                                                                                                                                                                                                                                                                                                                                                                                                                                                                                                                                                                                                                                                                                                                                                                                                                                                                                                                          I forgot to tell you that you re cute yesterday Im sorry 😔 you re so fucking cute   \n",
              "72262                                                                                                                                                                                                                                                                                                                                                                                                                                                                                                                                                                                                                                                                                                                                                            I bought my rope A nice thick long rope to tie around my neck to suffocate my disgusting faggot shy good for nothing self I have no one to tell so here I am Not that anyone cares anyways I m not doing it today though but soon enough I just bought the rope    \n",
              "139327      Broken since birthFear anger and the withdrawal have been a part of my life since as long as I can remember I cannot relate to anyone due to my varying personality disorders anxiety adhd depression abandonment issues as well as battling the ego and trying to get any type of empathy when deep down I have no love to give just fear that is propped up by my false sense of ego Never really had any friends hated by all Wish I never existed that would be saved a lot of people that would rejoice in not seeing my moody aggresive self centred negative petty small minded twat I wouldnt wish this on anyone having to develop shields and close off since what is the point if one cannot and instinctively maybe doesnt want to get close to others and is wallowing in nostalgia only because it is in the past and therefore not a threat I feel like a cold dead monster if only I had the courage There are a lot of good people out there I am not one of them as I am too self centred and cold    \n",
              "65098                                                                                                                                                                                                                                                                                                                                                                                                                                                                                                                                                                                     So tired I m just so fucking tired of being the one asking for advice asking for someone to talk to me asking to be told that I mean something I m tired of being incapable of being happy on my own I m tired of being dependant on people because of mental struggles I m tired of being me and I m tired of life Idk what to do and Idk why I m even typing this I m just so alone and I don t want to do this living thing anymore    \n",
              "100770                                                                                                                                                                         How am I supposed to tell a loved one with anxiety I need to be hospitalized In the past year Ive had four attempts that brought me to a hospital I learned coping skills DBT also a long time ago Im in therapy and on meds none of it is helping me I have a plan and Im just settling things before I enact it Its all getting worse and worse but Im feeling guilty about leaving my s o who has anxiety and depression I dont know how Im supposed to reach out to them when theyre already paranoid and anxious Ill have another attempt and leave them they tell me regularly theyre afraid of it I dont know how Im supposed to help myself I dont see any point in living anymore I cant stop thinking about carrying out my plan and I am so so tired How am I supposed to tell them when theyre already a wreck about my past attempts    \n",
              "\n",
              "                  class  \n",
              "Unnamed: 0               \n",
              "238851      non-suicide  \n",
              "72262           suicide  \n",
              "139327          suicide  \n",
              "65098       non-suicide  \n",
              "100770          suicide  "
            ]
          },
          "execution_count": 16,
          "metadata": {},
          "output_type": "execute_result"
        }
      ],
      "source": [
        "df_suicidio_clean['class'] = df_suicidio['class']\n",
        "df_suicidio_clean.sample(5)"
      ]
    },
    {
      "cell_type": "code",
      "execution_count": 17,
      "metadata": {
        "id": "1kNbM0qwIc-h"
      },
      "outputs": [],
      "source": [
        "df_suicidio_clean.to_csv('SuicidiosProyecto_clean.csv')"
      ]
    },
    {
      "cell_type": "code",
      "execution_count": 18,
      "metadata": {
        "id": "2HFM22KhD7Ol"
      },
      "outputs": [],
      "source": [
        "# El parámetro 'stratify' es útil para asegurar que ambos conjuntos de datos queden aproximadamente balanceados\n",
        "# Cuando se cuenta con muy pocos datos etiquetados, por lo general se debe disponer de una menor cantidad de datos para evaluación\n",
        "X_train, X_test, y_train, y_test = train_test_split(df_suicidio_clean['text'], df_suicidio_clean['class'], test_size = 0.2, stratify = df_suicidio_clean['class'], random_state = 1)"
      ]
    },
    {
      "cell_type": "code",
      "execution_count": 20,
      "metadata": {
        "colab": {
          "base_uri": "https://localhost:8080/"
        },
        "id": "XmC2IIimFaOH",
        "outputId": "5100f9ee-5257-4865-fc35-5cce3c779ce6"
      },
      "outputs": [
        {
          "data": {
            "text/plain": [
              "128893"
            ]
          },
          "execution_count": 20,
          "metadata": {},
          "output_type": "execute_result"
        }
      ],
      "source": [
        "tfidf = TfidfVectorizer(tokenizer = tokenizer, stop_words = stop_words, lowercase = True)\n",
        "X_tfidf = tfidf.fit_transform(X_train)\n",
        "len(tfidf.vocabulary_)"
      ]
    },
    {
      "cell_type": "markdown",
      "metadata": {
        "id": "PhmfqS45msYF"
      },
      "source": [
        "#Modelos"
      ]
    },
    {
      "cell_type": "markdown",
      "metadata": {
        "id": "t9wYjltHmkSj"
      },
      "source": [
        "## Entrenando y evaluando un modelo usado TF-IDF"
      ]
    },
    {
      "cell_type": "markdown",
      "metadata": {
        "id": "GAdOelrbF9gH"
      },
      "source": [
        "### Passive Aggressive Classifier"
      ]
    },
    {
      "cell_type": "code",
      "execution_count": 43,
      "metadata": {
        "id": "aOVTbiM_C7Iv"
      },
      "outputs": [],
      "source": [
        "pre = [('initial',TfidfVectorizer(tokenizer = tokenizer, stop_words = stop_words, lowercase = True)),]\n",
        "\n",
        "# Modelo\n",
        "model = [('model', PassiveAggressiveClassifier(random_state=8))]\n",
        "\n",
        "# Decalra el pipeline\n",
        "pipeline = Pipeline(pre+model)\n",
        "\n",
        "pipeline = pipeline.fit(X_train,y_train)\n",
        "\n",
        "# Usamos la lbreria joblib\n",
        "filename = 'pipeline.joblib'\n",
        "# Se guarda\n",
        "dump(pipeline, filename) \n",
        "# Se lee\n",
        "tfidf_model = load(filename)"
      ]
    },
    {
      "cell_type": "code",
      "execution_count": 44,
      "metadata": {
        "id": "iP7RqOpQF4JF"
      },
      "outputs": [],
      "source": [
        "# tfidf_model = PassiveAggressiveClassifier(random_state=8)\n",
        "#tfidf_model.fit(X_tfidf, y_train)"
      ]
    },
    {
      "cell_type": "code",
      "execution_count": 48,
      "metadata": {
        "id": "fgdKsXKUF8qK"
      },
      "outputs": [],
      "source": [
        "#y_train_tfidf_predict = tfidf_model.predict(X_tfidf)\n",
        "y_train_tfidf_predict = tfidf_model.predict(X_train)\n",
        "#y_test_tfidf_predict = tfidf_model.predict(tfidf.transform(X_test))\n",
        "y_test_tfidf_predict = tfidf_model.predict(X_test)"
      ]
    },
    {
      "cell_type": "code",
      "execution_count": 49,
      "metadata": {
        "colab": {
          "base_uri": "https://localhost:8080/"
        },
        "id": "Dt3-hGlLGVcK",
        "outputId": "d6fadcb9-87df-4ce9-bc12-1f5fd72adfba"
      },
      "outputs": [
        {
          "data": {
            "text/plain": [
              "<sklearn.metrics._plot.confusion_matrix.ConfusionMatrixDisplay at 0x7f8c3050ef90>"
            ]
          },
          "execution_count": 49,
          "metadata": {},
          "output_type": "execute_result"
        }
      ],
      "source": [
        "ConfusionMatrixDisplay.from_predictions(y_train, y_train_tfidf_predict)"
      ]
    },
    {
      "cell_type": "code",
      "execution_count": 50,
      "metadata": {
        "colab": {
          "base_uri": "https://localhost:8080/"
        },
        "id": "VzkA3NYzGXVD",
        "outputId": "c1577a36-9c3e-48b4-db34-5a352ec815ae"
      },
      "outputs": [
        {
          "data": {
            "text/plain": [
              "<sklearn.metrics._plot.confusion_matrix.ConfusionMatrixDisplay at 0x7f8c2f8fef10>"
            ]
          },
          "execution_count": 50,
          "metadata": {},
          "output_type": "execute_result"
        }
      ],
      "source": [
        "ConfusionMatrixDisplay.from_predictions(y_test, y_test_tfidf_predict)"
      ]
    },
    {
      "cell_type": "code",
      "execution_count": 51,
      "metadata": {
        "colab": {
          "base_uri": "https://localhost:8080/"
        },
        "id": "j3sKltP3GbQn",
        "outputId": "4adc55b6-5f0c-4a98-dacc-55f502189c61"
      },
      "outputs": [
        {
          "name": "stdout",
          "output_type": "stream",
          "text": [
            "Precision: 0.988148561526148\n",
            "Recall: 0.983310925352195\n",
            "F1: 0.9857238080588334\n"
          ]
        }
      ],
      "source": [
        "if len(tfidf_model.classes_) == 2:\n",
        "    print('Precision:', precision_score(y_train, y_train_tfidf_predict, pos_label = 'suicide'))\n",
        "    print('Recall:', recall_score(y_train, y_train_tfidf_predict, pos_label = 'suicide'))\n",
        "    print('F1:', f1_score(y_train, y_train_tfidf_predict, pos_label = 'suicide'))\n",
        "else:\n",
        "    # Para casos no binarios, es común calcular las métricas para cada clase\n",
        "    print('Precision:', precision_score(y_train, y_train_tfidf_predict, average = None))\n",
        "    print('Recall:', recall_score(y_train, y_train_tfidf_predict, average = None))\n",
        "    print('F1:', f1_score(y_train, y_train_tfidf_predict, average = None))"
      ]
    },
    {
      "cell_type": "code",
      "execution_count": 52,
      "metadata": {
        "colab": {
          "base_uri": "https://localhost:8080/"
        },
        "id": "zhSmRbNZGbvE",
        "outputId": "70f94aee-59e7-4adf-c138-ecdd98c20f2e"
      },
      "outputs": [
        {
          "name": "stdout",
          "output_type": "stream",
          "text": [
            "Precision: 0.9304443493673981\n",
            "Recall: 0.8898696440053779\n",
            "F1: 0.9097047926377435\n"
          ]
        }
      ],
      "source": [
        "if len(tfidf_model.classes_) == 2:\n",
        "    print('Precision:', precision_score(y_test, y_test_tfidf_predict, pos_label = 'suicide'))\n",
        "    print('Recall:', recall_score(y_test, y_test_tfidf_predict, pos_label = 'suicide'))\n",
        "    print('F1:', f1_score(y_test, y_test_tfidf_predict, pos_label = 'suicide'))\n",
        "else:\n",
        "    # Para casos no binarios, es común calcular las métricas para cada clase\n",
        "    print('Precision:', precision_score(y_test, y_test_tfidf_predict, average = None))\n",
        "    print('Recall:', recall_score(y_test, y_test_tfidf_predict, average = None))\n",
        "    print('F1:', f1_score(y_test, y_test_tfidf_predict, average = None))"
      ]
    },
    {
      "cell_type": "code",
      "execution_count": null,
      "metadata": {
        "id": "nD-j71jyKrqJ"
      },
      "outputs": [],
      "source": []
    }
  ],
  "metadata": {
    "colab": {
      "collapsed_sections": [
        "lJKnypY1mqSi",
        "vrgSiwaffF60",
        "MtS6n0oGmZqY",
        "HB8uldvSnLPf",
        "ukHlXdvKFhSb",
        "G_jWpfN6hUZO",
        "dwH07k7EprbF"
      ],
      "provenance": []
    },
    "kernelspec": {
      "display_name": "Python 3.10.0 64-bit ('3.10.0')",
      "language": "python",
      "name": "python3"
    },
    "language_info": {
      "name": "python",
      "version": "3.10.0"
    },
    "vscode": {
      "interpreter": {
        "hash": "5e959e67a2d730a19c1c53eefbf1f588caa901184e8999d9c0f348f91b47c80c"
      }
    }
  },
  "nbformat": 4,
  "nbformat_minor": 0
}
