{
  "cells": [
    {
      "cell_type": "markdown",
      "source": [
        "#Imports"
      ],
      "metadata": {
        "id": "D4slVdw-gugj"
      }
    },
    {
      "cell_type": "code",
      "execution_count": null,
      "metadata": {
        "id": "qULd2NA_BlLU"
      },
      "outputs": [],
      "source": [
        "import string\n",
        "import re\n",
        "\n",
        "import numpy as np\n",
        "import pandas as pd\n",
        "\n",
        "import nltk\n",
        "from nltk.corpus import stopwords\n",
        "from nltk.tokenize import TweetTokenizer\n",
        "\n",
        "from sklearn.model_selection import train_test_split\n",
        "from sklearn.feature_extraction.text import CountVectorizer, TfidfVectorizer\n",
        "\n",
        "from sklearn.ensemble import RandomForestClassifier\n",
        "\n",
        "from sklearn.pipeline import Pipeline\n",
        "from sklearn.model_selection import GridSearchCV\n",
        "\n",
        "from sklearn.metrics import ConfusionMatrixDisplay, precision_score, recall_score, f1_score\n",
        "\n",
        "# Instalación de librerias\n",
        "import warnings\n",
        "warnings.filterwarnings('ignore')\n",
        "\n",
        "from scipy import stats as st\n",
        "import sys\n",
        "from pandas_profiling import ProfileReport\n",
        "import re, unicodedata\n",
        "import inflect\n",
        "from nltk import word_tokenize\n",
        "from nltk.corpus import stopwords\n",
        "from nltk.stem import LancasterStemmer, WordNetLemmatizer\n",
        "from sklearn.feature_extraction.text import TfidfTransformer\n",
        "from sklearn.model_selection import GridSearchCV, KFold\n",
        "from sklearn.feature_extraction.text import CountVectorizer\n",
        "from sklearn.pipeline import Pipeline\n",
        "from sklearn.linear_model import SGDClassifier, PassiveAggressiveClassifier\n",
        "from sklearn.naive_bayes import MultinomialNB\n",
        "from sklearn.metrics import classification_report, confusion_matrix, plot_precision_recall_curve\n",
        "import matplotlib.pyplot as plt\n",
        "\n"
      ]
    },
    {
      "cell_type": "markdown",
      "source": [
        "#Preparación"
      ],
      "metadata": {
        "id": "wSUamiKFg-Yn"
      }
    },
    {
      "cell_type": "code",
      "execution_count": null,
      "metadata": {
        "colab": {
          "base_uri": "https://localhost:8080/"
        },
        "id": "KA6ZvO8uBrYE",
        "outputId": "7e166024-dd8f-4ceb-e8c9-e79ad8254c84"
      },
      "outputs": [
        {
          "output_type": "stream",
          "name": "stderr",
          "text": [
            "[nltk_data] Downloading package stopwords to /root/nltk_data...\n",
            "[nltk_data]   Unzipping corpora/stopwords.zip.\n"
          ]
        }
      ],
      "source": [
        "pd.set_option('display.max_colwidth', None)\n",
        "\n",
        "# Descargando las stopwords\n",
        "\n",
        "nltk.download('stopwords')\n",
        "stop_words = set(stopwords.words('english'))\n",
        "\n",
        "# Función para tokenizar los tweets\n",
        "def tokenizer(text):\n",
        "    tt = TweetTokenizer()\n",
        "    return tt.tokenize(text)\n",
        "\n"
      ]
    },
    {
      "cell_type": "markdown",
      "source": [
        "## Carga de Datos"
      ],
      "metadata": {
        "id": "wbl3vRtthAoM"
      }
    },
    {
      "cell_type": "code",
      "execution_count": null,
      "metadata": {
        "colab": {
          "base_uri": "https://localhost:8080/"
        },
        "id": "l8GcN5dFDXBG",
        "outputId": "72916a08-f690-42da-957c-0cb8c6de7d2b"
      },
      "outputs": [
        {
          "output_type": "execute_result",
          "data": {
            "text/plain": [
              "(195700, 2)"
            ]
          },
          "metadata": {},
          "execution_count": 3
        }
      ],
      "source": [
        "datos = pd.read_csv(\"/content/SuicidiosProyecto.csv\",sep=\",\",index_col=0)\n",
        "df_suicidio = datos.copy()\n",
        "df_suicidio.shape"
      ]
    },
    {
      "cell_type": "markdown",
      "source": [
        "Tenemos 195.700 mensajes"
      ],
      "metadata": {
        "id": "oxLSsX3nhQlf"
      }
    },
    {
      "cell_type": "code",
      "execution_count": null,
      "metadata": {
        "colab": {
          "base_uri": "https://localhost:8080/",
          "height": 238
        },
        "id": "g5uh76bKDsNX",
        "outputId": "a11c53e3-34d1-4e6a-b2f7-79efc6c65a56"
      },
      "outputs": [
        {
          "output_type": "execute_result",
          "data": {
            "text/plain": [
              "                                                         text        class\n",
              "Unnamed: 0                                                                \n",
              "131156      Posting everyday until I get a girlfriend day ...  non-suicide\n",
              "118652      Two months to figure it out.Today i got what a...      suicide\n",
              "170385      In my early thirties, managers tell me I have ...      suicide\n",
              "232671      It's my real life Birthday... ...in exactly SI...  non-suicide\n",
              "180047      I’m sad, Minecraft, A meme, and a callout post...  non-suicide"
            ],
            "text/html": [
              "\n",
              "  <div id=\"df-8fd8a7c1-7f0c-426c-9273-681213de4935\">\n",
              "    <div class=\"colab-df-container\">\n",
              "      <div>\n",
              "<style scoped>\n",
              "    .dataframe tbody tr th:only-of-type {\n",
              "        vertical-align: middle;\n",
              "    }\n",
              "\n",
              "    .dataframe tbody tr th {\n",
              "        vertical-align: top;\n",
              "    }\n",
              "\n",
              "    .dataframe thead th {\n",
              "        text-align: right;\n",
              "    }\n",
              "</style>\n",
              "<table border=\"1\" class=\"dataframe\">\n",
              "  <thead>\n",
              "    <tr style=\"text-align: right;\">\n",
              "      <th></th>\n",
              "      <th>text</th>\n",
              "      <th>class</th>\n",
              "    </tr>\n",
              "    <tr>\n",
              "      <th>Unnamed: 0</th>\n",
              "      <th></th>\n",
              "      <th></th>\n",
              "    </tr>\n",
              "  </thead>\n",
              "  <tbody>\n",
              "    <tr>\n",
              "      <th>131156</th>\n",
              "      <td>Posting everyday until I get a girlfriend day ...</td>\n",
              "      <td>non-suicide</td>\n",
              "    </tr>\n",
              "    <tr>\n",
              "      <th>118652</th>\n",
              "      <td>Two months to figure it out.Today i got what a...</td>\n",
              "      <td>suicide</td>\n",
              "    </tr>\n",
              "    <tr>\n",
              "      <th>170385</th>\n",
              "      <td>In my early thirties, managers tell me I have ...</td>\n",
              "      <td>suicide</td>\n",
              "    </tr>\n",
              "    <tr>\n",
              "      <th>232671</th>\n",
              "      <td>It's my real life Birthday... ...in exactly SI...</td>\n",
              "      <td>non-suicide</td>\n",
              "    </tr>\n",
              "    <tr>\n",
              "      <th>180047</th>\n",
              "      <td>I’m sad, Minecraft, A meme, and a callout post...</td>\n",
              "      <td>non-suicide</td>\n",
              "    </tr>\n",
              "  </tbody>\n",
              "</table>\n",
              "</div>\n",
              "      <button class=\"colab-df-convert\" onclick=\"convertToInteractive('df-8fd8a7c1-7f0c-426c-9273-681213de4935')\"\n",
              "              title=\"Convert this dataframe to an interactive table.\"\n",
              "              style=\"display:none;\">\n",
              "        \n",
              "  <svg xmlns=\"http://www.w3.org/2000/svg\" height=\"24px\"viewBox=\"0 0 24 24\"\n",
              "       width=\"24px\">\n",
              "    <path d=\"M0 0h24v24H0V0z\" fill=\"none\"/>\n",
              "    <path d=\"M18.56 5.44l.94 2.06.94-2.06 2.06-.94-2.06-.94-.94-2.06-.94 2.06-2.06.94zm-11 1L8.5 8.5l.94-2.06 2.06-.94-2.06-.94L8.5 2.5l-.94 2.06-2.06.94zm10 10l.94 2.06.94-2.06 2.06-.94-2.06-.94-.94-2.06-.94 2.06-2.06.94z\"/><path d=\"M17.41 7.96l-1.37-1.37c-.4-.4-.92-.59-1.43-.59-.52 0-1.04.2-1.43.59L10.3 9.45l-7.72 7.72c-.78.78-.78 2.05 0 2.83L4 21.41c.39.39.9.59 1.41.59.51 0 1.02-.2 1.41-.59l7.78-7.78 2.81-2.81c.8-.78.8-2.07 0-2.86zM5.41 20L4 18.59l7.72-7.72 1.47 1.35L5.41 20z\"/>\n",
              "  </svg>\n",
              "      </button>\n",
              "      \n",
              "  <style>\n",
              "    .colab-df-container {\n",
              "      display:flex;\n",
              "      flex-wrap:wrap;\n",
              "      gap: 12px;\n",
              "    }\n",
              "\n",
              "    .colab-df-convert {\n",
              "      background-color: #E8F0FE;\n",
              "      border: none;\n",
              "      border-radius: 50%;\n",
              "      cursor: pointer;\n",
              "      display: none;\n",
              "      fill: #1967D2;\n",
              "      height: 32px;\n",
              "      padding: 0 0 0 0;\n",
              "      width: 32px;\n",
              "    }\n",
              "\n",
              "    .colab-df-convert:hover {\n",
              "      background-color: #E2EBFA;\n",
              "      box-shadow: 0px 1px 2px rgba(60, 64, 67, 0.3), 0px 1px 3px 1px rgba(60, 64, 67, 0.15);\n",
              "      fill: #174EA6;\n",
              "    }\n",
              "\n",
              "    [theme=dark] .colab-df-convert {\n",
              "      background-color: #3B4455;\n",
              "      fill: #D2E3FC;\n",
              "    }\n",
              "\n",
              "    [theme=dark] .colab-df-convert:hover {\n",
              "      background-color: #434B5C;\n",
              "      box-shadow: 0px 1px 3px 1px rgba(0, 0, 0, 0.15);\n",
              "      filter: drop-shadow(0px 1px 2px rgba(0, 0, 0, 0.3));\n",
              "      fill: #FFFFFF;\n",
              "    }\n",
              "  </style>\n",
              "\n",
              "      <script>\n",
              "        const buttonEl =\n",
              "          document.querySelector('#df-8fd8a7c1-7f0c-426c-9273-681213de4935 button.colab-df-convert');\n",
              "        buttonEl.style.display =\n",
              "          google.colab.kernel.accessAllowed ? 'block' : 'none';\n",
              "\n",
              "        async function convertToInteractive(key) {\n",
              "          const element = document.querySelector('#df-8fd8a7c1-7f0c-426c-9273-681213de4935');\n",
              "          const dataTable =\n",
              "            await google.colab.kernel.invokeFunction('convertToInteractive',\n",
              "                                                     [key], {});\n",
              "          if (!dataTable) return;\n",
              "\n",
              "          const docLinkHtml = 'Like what you see? Visit the ' +\n",
              "            '<a target=\"_blank\" href=https://colab.research.google.com/notebooks/data_table.ipynb>data table notebook</a>'\n",
              "            + ' to learn more about interactive tables.';\n",
              "          element.innerHTML = '';\n",
              "          dataTable['output_type'] = 'display_data';\n",
              "          await google.colab.output.renderOutput(dataTable, element);\n",
              "          const docLink = document.createElement('div');\n",
              "          docLink.innerHTML = docLinkHtml;\n",
              "          element.appendChild(docLink);\n",
              "        }\n",
              "      </script>\n",
              "    </div>\n",
              "  </div>\n",
              "  "
            ]
          },
          "metadata": {},
          "execution_count": 4
        }
      ],
      "source": [
        "df_suicidio.sample(5)"
      ]
    },
    {
      "cell_type": "markdown",
      "source": [
        "##Datos importantes"
      ],
      "metadata": {
        "id": "s9tX3W1Khcuo"
      }
    },
    {
      "cell_type": "code",
      "execution_count": null,
      "metadata": {
        "colab": {
          "base_uri": "https://localhost:8080/"
        },
        "id": "KsAKrPxODzRI",
        "outputId": "93395b14-478a-4ac8-ad80-5e6cdd83680f"
      },
      "outputs": [
        {
          "output_type": "execute_result",
          "data": {
            "text/plain": [
              "non-suicide    0.562928\n",
              "suicide        0.437072\n",
              "Name: class, dtype: float64"
            ]
          },
          "metadata": {},
          "execution_count": 5
        }
      ],
      "source": [
        "df_suicidio['class'].value_counts(dropna = False, normalize = True)"
      ]
    },
    {
      "cell_type": "markdown",
      "source": [
        "Proporción de mensajes categorizados com suicidas o no suicidas"
      ],
      "metadata": {
        "id": "sb7oyiVlhWGP"
      }
    },
    {
      "cell_type": "markdown",
      "source": [
        "## Limpieza"
      ],
      "metadata": {
        "id": "AfpWMcqNsXDB"
      }
    },
    {
      "cell_type": "code",
      "source": [
        "def clean_text_round1(text):\n",
        "    '''Make text lowercase, remove text in square brackets, remove punctuation and remove words containing numbers.'''\n",
        "    text = text.lower()\n",
        "    text = re.sub('\\[.*?¿\\]\\%', ' ', text)\n",
        "    text = re.sub('[%s]' % re.escape(string.punctuation), ' ', text)\n",
        "    text = re.sub('\\w*\\d\\w*', '', text)\n",
        "    return text\n",
        " \n",
        "round1 = lambda x: clean_text_round1(x)\n",
        " \n",
        "df_suicidio_clean = pd.DataFrame(df_suicidio.text.apply(round1))\n",
        " \n",
        "# Apply a second round of cleaning\n",
        "def clean_text_round2(text):\n",
        "    '''Get rid of some additional punctuation and non-sensical text that was missed the first time around.'''\n",
        "    text = re.sub('[‘’“”…«»]', '', text)\n",
        "    text = re.sub('\\n', ' ', text)\n",
        "    regex = '[\\\\!\\\\\"\\\\#\\\\$\\\\%\\\\&\\\\\\'\\\\(\\\\)\\\\*\\\\+\\\\,\\\\-\\\\.\\\\/\\\\:\\\\;\\\\<\\\\=\\\\>\\\\?\\\\@\\\\[\\\\\\\\\\\\]\\\\^_\\\\`\\\\{\\\\|\\\\}\\\\~]'\n",
        "    text = re.sub(regex , ' ', text)\n",
        "    # Eliminación de números\n",
        "    text = re.sub(\"\\d+\", ' ', text)\n",
        "    # Eliminación de espacios en blanco múltiples\n",
        "    text = re.sub(\"\\\\s+\", ' ', text)\n",
        "    return text\n",
        " \n",
        "round2 = lambda x: clean_text_round2(x)\n",
        "\n",
        " \n",
        "df_suicidio_clean = pd.DataFrame(df_suicidio.text.apply(round2))\n"
      ],
      "metadata": {
        "id": "9nqYV-ZxsVbg"
      },
      "execution_count": null,
      "outputs": []
    },
    {
      "cell_type": "code",
      "source": [
        "df_suicidio_clean['class'] = df_suicidio['class']\n",
        "df_suicidio_clean.sample(5)"
      ],
      "metadata": {
        "colab": {
          "base_uri": "https://localhost:8080/",
          "height": 238
        },
        "id": "u8hofnruw0fJ",
        "outputId": "379fcd96-f722-44c8-ac68-66acc952e972"
      },
      "execution_count": null,
      "outputs": [
        {
          "output_type": "execute_result",
          "data": {
            "text/plain": [
              "                                                         text        class\n",
              "Unnamed: 0                                                                \n",
              "250715      so i finished my first month of second year i ...  non-suicide\n",
              "244671      i cant forgive myself for what ive done in the...      suicide\n",
              "142956      i can t go on i m writing this with the door l...      suicide\n",
              "119441      i would just like to say the symbols tattooed ...  non-suicide\n",
              "126873      bruh i really talking to my therapist like som...  non-suicide"
            ],
            "text/html": [
              "\n",
              "  <div id=\"df-d4e03a0c-42c0-4e7f-b722-3b3330e4c7d4\">\n",
              "    <div class=\"colab-df-container\">\n",
              "      <div>\n",
              "<style scoped>\n",
              "    .dataframe tbody tr th:only-of-type {\n",
              "        vertical-align: middle;\n",
              "    }\n",
              "\n",
              "    .dataframe tbody tr th {\n",
              "        vertical-align: top;\n",
              "    }\n",
              "\n",
              "    .dataframe thead th {\n",
              "        text-align: right;\n",
              "    }\n",
              "</style>\n",
              "<table border=\"1\" class=\"dataframe\">\n",
              "  <thead>\n",
              "    <tr style=\"text-align: right;\">\n",
              "      <th></th>\n",
              "      <th>text</th>\n",
              "      <th>class</th>\n",
              "    </tr>\n",
              "    <tr>\n",
              "      <th>Unnamed: 0</th>\n",
              "      <th></th>\n",
              "      <th></th>\n",
              "    </tr>\n",
              "  </thead>\n",
              "  <tbody>\n",
              "    <tr>\n",
              "      <th>250715</th>\n",
              "      <td>so i finished my first month of second year i ...</td>\n",
              "      <td>non-suicide</td>\n",
              "    </tr>\n",
              "    <tr>\n",
              "      <th>244671</th>\n",
              "      <td>i cant forgive myself for what ive done in the...</td>\n",
              "      <td>suicide</td>\n",
              "    </tr>\n",
              "    <tr>\n",
              "      <th>142956</th>\n",
              "      <td>i can t go on i m writing this with the door l...</td>\n",
              "      <td>suicide</td>\n",
              "    </tr>\n",
              "    <tr>\n",
              "      <th>119441</th>\n",
              "      <td>i would just like to say the symbols tattooed ...</td>\n",
              "      <td>non-suicide</td>\n",
              "    </tr>\n",
              "    <tr>\n",
              "      <th>126873</th>\n",
              "      <td>bruh i really talking to my therapist like som...</td>\n",
              "      <td>non-suicide</td>\n",
              "    </tr>\n",
              "  </tbody>\n",
              "</table>\n",
              "</div>\n",
              "      <button class=\"colab-df-convert\" onclick=\"convertToInteractive('df-d4e03a0c-42c0-4e7f-b722-3b3330e4c7d4')\"\n",
              "              title=\"Convert this dataframe to an interactive table.\"\n",
              "              style=\"display:none;\">\n",
              "        \n",
              "  <svg xmlns=\"http://www.w3.org/2000/svg\" height=\"24px\"viewBox=\"0 0 24 24\"\n",
              "       width=\"24px\">\n",
              "    <path d=\"M0 0h24v24H0V0z\" fill=\"none\"/>\n",
              "    <path d=\"M18.56 5.44l.94 2.06.94-2.06 2.06-.94-2.06-.94-.94-2.06-.94 2.06-2.06.94zm-11 1L8.5 8.5l.94-2.06 2.06-.94-2.06-.94L8.5 2.5l-.94 2.06-2.06.94zm10 10l.94 2.06.94-2.06 2.06-.94-2.06-.94-.94-2.06-.94 2.06-2.06.94z\"/><path d=\"M17.41 7.96l-1.37-1.37c-.4-.4-.92-.59-1.43-.59-.52 0-1.04.2-1.43.59L10.3 9.45l-7.72 7.72c-.78.78-.78 2.05 0 2.83L4 21.41c.39.39.9.59 1.41.59.51 0 1.02-.2 1.41-.59l7.78-7.78 2.81-2.81c.8-.78.8-2.07 0-2.86zM5.41 20L4 18.59l7.72-7.72 1.47 1.35L5.41 20z\"/>\n",
              "  </svg>\n",
              "      </button>\n",
              "      \n",
              "  <style>\n",
              "    .colab-df-container {\n",
              "      display:flex;\n",
              "      flex-wrap:wrap;\n",
              "      gap: 12px;\n",
              "    }\n",
              "\n",
              "    .colab-df-convert {\n",
              "      background-color: #E8F0FE;\n",
              "      border: none;\n",
              "      border-radius: 50%;\n",
              "      cursor: pointer;\n",
              "      display: none;\n",
              "      fill: #1967D2;\n",
              "      height: 32px;\n",
              "      padding: 0 0 0 0;\n",
              "      width: 32px;\n",
              "    }\n",
              "\n",
              "    .colab-df-convert:hover {\n",
              "      background-color: #E2EBFA;\n",
              "      box-shadow: 0px 1px 2px rgba(60, 64, 67, 0.3), 0px 1px 3px 1px rgba(60, 64, 67, 0.15);\n",
              "      fill: #174EA6;\n",
              "    }\n",
              "\n",
              "    [theme=dark] .colab-df-convert {\n",
              "      background-color: #3B4455;\n",
              "      fill: #D2E3FC;\n",
              "    }\n",
              "\n",
              "    [theme=dark] .colab-df-convert:hover {\n",
              "      background-color: #434B5C;\n",
              "      box-shadow: 0px 1px 3px 1px rgba(0, 0, 0, 0.15);\n",
              "      filter: drop-shadow(0px 1px 2px rgba(0, 0, 0, 0.3));\n",
              "      fill: #FFFFFF;\n",
              "    }\n",
              "  </style>\n",
              "\n",
              "      <script>\n",
              "        const buttonEl =\n",
              "          document.querySelector('#df-d4e03a0c-42c0-4e7f-b722-3b3330e4c7d4 button.colab-df-convert');\n",
              "        buttonEl.style.display =\n",
              "          google.colab.kernel.accessAllowed ? 'block' : 'none';\n",
              "\n",
              "        async function convertToInteractive(key) {\n",
              "          const element = document.querySelector('#df-d4e03a0c-42c0-4e7f-b722-3b3330e4c7d4');\n",
              "          const dataTable =\n",
              "            await google.colab.kernel.invokeFunction('convertToInteractive',\n",
              "                                                     [key], {});\n",
              "          if (!dataTable) return;\n",
              "\n",
              "          const docLinkHtml = 'Like what you see? Visit the ' +\n",
              "            '<a target=\"_blank\" href=https://colab.research.google.com/notebooks/data_table.ipynb>data table notebook</a>'\n",
              "            + ' to learn more about interactive tables.';\n",
              "          element.innerHTML = '';\n",
              "          dataTable['output_type'] = 'display_data';\n",
              "          await google.colab.output.renderOutput(dataTable, element);\n",
              "          const docLink = document.createElement('div');\n",
              "          docLink.innerHTML = docLinkHtml;\n",
              "          element.appendChild(docLink);\n",
              "        }\n",
              "      </script>\n",
              "    </div>\n",
              "  </div>\n",
              "  "
            ]
          },
          "metadata": {},
          "execution_count": 7
        }
      ]
    },
    {
      "cell_type": "code",
      "execution_count": null,
      "metadata": {
        "id": "2HFM22KhD7Ol"
      },
      "outputs": [],
      "source": [
        "# El parámetro 'stratify' es útil para asegurar que ambos conjuntos de datos queden aproximadamente balanceados\n",
        "# Cuando se cuenta con muy pocos datos etiquetados, por lo general se debe disponer de una menor cantidad de datos para evaluación\n",
        "X_train, X_test, y_train, y_test = train_test_split(df_suicidio_clean['text'], df_suicidio_clean['class'], test_size = 0.2, stratify = df_suicidio_clean['class'], random_state = 1)"
      ]
    },
    {
      "cell_type": "code",
      "execution_count": null,
      "metadata": {
        "colab": {
          "base_uri": "https://localhost:8080/"
        },
        "id": "UHo_ziQBFD_6",
        "outputId": "63479951-f4e5-4564-8b0d-62a037944e06"
      },
      "outputs": [
        {
          "output_type": "execute_result",
          "data": {
            "text/plain": [
              "120051"
            ]
          },
          "metadata": {},
          "execution_count": 11
        }
      ],
      "source": [
        "bow = CountVectorizer(tokenizer = tokenizer, stop_words = stop_words, lowercase = True)\n",
        "X_bow = bow.fit_transform(X_train)\n",
        "len(bow.vocabulary_)"
      ]
    },
    {
      "cell_type": "code",
      "execution_count": null,
      "metadata": {
        "colab": {
          "base_uri": "https://localhost:8080/"
        },
        "id": "XmC2IIimFaOH",
        "outputId": "b3712aa9-d282-4b4f-e958-9ec2efbcf6c8"
      },
      "outputs": [
        {
          "output_type": "execute_result",
          "data": {
            "text/plain": [
              "120051"
            ]
          },
          "metadata": {},
          "execution_count": 12
        }
      ],
      "source": [
        "tfidf = TfidfVectorizer(tokenizer = tokenizer, stop_words = stop_words, lowercase = True)\n",
        "X_tfidf = tfidf.fit_transform(X_train)\n",
        "len(tfidf.vocabulary_)"
      ]
    },
    {
      "cell_type": "markdown",
      "source": [
        "#Modelos"
      ],
      "metadata": {
        "id": "PhmfqS45msYF"
      }
    },
    {
      "cell_type": "markdown",
      "source": [
        "## Entrenando y evaluando un modelo usado BoW"
      ],
      "metadata": {
        "id": "lJKnypY1mqSi"
      }
    },
    {
      "cell_type": "markdown",
      "source": [
        "### Random Forest"
      ],
      "metadata": {
        "id": "vrgSiwaffF60"
      }
    },
    {
      "cell_type": "code",
      "execution_count": null,
      "metadata": {
        "colab": {
          "base_uri": "https://localhost:8080/"
        },
        "id": "mT5yA2yPF_np",
        "outputId": "e182a5f8-67dc-4177-b425-f81cbfc5fe51"
      },
      "outputs": [
        {
          "output_type": "execute_result",
          "data": {
            "text/plain": [
              "RandomForestClassifier(random_state=2)"
            ]
          },
          "metadata": {},
          "execution_count": 73
        }
      ],
      "source": [
        "bow_model = RandomForestClassifier(random_state = 2)\n",
        "bow_model.fit(X_bow, y_train)"
      ]
    },
    {
      "cell_type": "code",
      "execution_count": null,
      "metadata": {
        "id": "ggkD7U57GWHJ"
      },
      "outputs": [],
      "source": [
        "y_train_bow_predict = bow_model.predict(X_bow)\n",
        "y_test_bow_predict = bow_model.predict(bow.transform(X_test))"
      ]
    },
    {
      "cell_type": "code",
      "execution_count": null,
      "metadata": {
        "colab": {
          "base_uri": "https://localhost:8080/"
        },
        "id": "u_6avIVpGYWh",
        "outputId": "0474f5ab-5c2d-4623-e5c6-1dc2a22f5044"
      },
      "outputs": [
        {
          "output_type": "execute_result",
          "data": {
            "text/plain": [
              "<sklearn.metrics._plot.confusion_matrix.ConfusionMatrixDisplay at 0x7fa79fc4a2d0>"
            ]
          },
          "metadata": {},
          "execution_count": 75
        }
      ],
      "source": [
        "ConfusionMatrixDisplay.from_predictions(y_train, y_train_bow_predict)"
      ]
    },
    {
      "cell_type": "code",
      "execution_count": null,
      "metadata": {
        "colab": {
          "base_uri": "https://localhost:8080/"
        },
        "id": "lX0Obls5GaaL",
        "outputId": "df846ed4-62c1-49c2-800c-3356d367f525"
      },
      "outputs": [
        {
          "output_type": "execute_result",
          "data": {
            "text/plain": [
              "<sklearn.metrics._plot.confusion_matrix.ConfusionMatrixDisplay at 0x7fa79e435910>"
            ]
          },
          "metadata": {},
          "execution_count": 76
        }
      ],
      "source": [
        "ConfusionMatrixDisplay.from_predictions(y_test, y_test_bow_predict)"
      ]
    },
    {
      "cell_type": "code",
      "execution_count": null,
      "metadata": {
        "colab": {
          "base_uri": "https://localhost:8080/"
        },
        "id": "ban4IFtJGb6C",
        "outputId": "a8bdbf73-9336-4eed-f75d-20d42f1076e0"
      },
      "outputs": [
        {
          "output_type": "stream",
          "name": "stdout",
          "text": [
            "Precision: 0.999956154453246\n",
            "Recall: 0.9998684748933185\n",
            "F1: 0.9999123127511875\n"
          ]
        }
      ],
      "source": [
        "if len(bow_model.classes_) == 2:\n",
        "    print('Precision:', precision_score(y_train, y_train_bow_predict, pos_label = 'suicide'))\n",
        "    print('Recall:', recall_score(y_train, y_train_bow_predict, pos_label = 'suicide'))\n",
        "    print('F1:', f1_score(y_train, y_train_bow_predict, pos_label = 'suicide'))\n",
        "else:\n",
        "    # Para casos no binarios, es común calcular las métricas para cada clase\n",
        "    print('Precision:', precision_score(y_train, y_train_bow_predict, average = None))\n",
        "    print('Recall:', recall_score(y_train, y_train_bow_predict, average = None))\n",
        "    print('F1:', f1_score(y_train, y_train_bow_predict, average = None))"
      ]
    },
    {
      "cell_type": "code",
      "execution_count": null,
      "metadata": {
        "colab": {
          "base_uri": "https://localhost:8080/"
        },
        "id": "pNxTHqQHGeJz",
        "outputId": "926cc16b-0db2-4147-e15c-325aec5b8a3e"
      },
      "outputs": [
        {
          "output_type": "stream",
          "name": "stdout",
          "text": [
            "Precision: 0.8740677966101695\n",
            "Recall: 0.904366633541825\n",
            "F1: 0.88895911741891\n"
          ]
        }
      ],
      "source": [
        "if len(bow_model.classes_) == 2:\n",
        "    print('Precision:', precision_score(y_test, y_test_bow_predict, pos_label = 'suicide'))\n",
        "    print('Recall:', recall_score(y_test, y_test_bow_predict, pos_label = 'suicide'))\n",
        "    print('F1:', f1_score(y_test, y_test_bow_predict, pos_label = 'suicide'))\n",
        "else:\n",
        "    # Para casos no binarios, es común calcular las métricas para cada clase\n",
        "    print('Precision:', precision_score(y_test, y_test_bow_predict, average = None))\n",
        "    print('Recall:', recall_score(y_test, y_test_bow_predict, average = None))\n",
        "    print('F1:', f1_score(y_test, y_test_bow_predict, average = None))"
      ]
    },
    {
      "cell_type": "markdown",
      "source": [
        "###MultinomialNB"
      ],
      "metadata": {
        "id": "MtS6n0oGmZqY"
      }
    },
    {
      "cell_type": "code",
      "source": [
        "bow_model = MultinomialNB()\n",
        "bow_model.fit(X_bow, y_train)"
      ],
      "metadata": {
        "colab": {
          "base_uri": "https://localhost:8080/"
        },
        "id": "KpemyC6ZmcYw",
        "outputId": "7476896c-4895-4374-df32-f88c71f5bc81"
      },
      "execution_count": null,
      "outputs": [
        {
          "output_type": "execute_result",
          "data": {
            "text/plain": [
              "MultinomialNB()"
            ]
          },
          "metadata": {},
          "execution_count": 13
        }
      ]
    },
    {
      "cell_type": "code",
      "source": [
        "y_train_bow_predict = bow_model.predict(X_bow)\n",
        "y_test_bow_predict = bow_model.predict(bow.transform(X_test))"
      ],
      "metadata": {
        "id": "xlJA3ncMmuWS"
      },
      "execution_count": null,
      "outputs": []
    },
    {
      "cell_type": "code",
      "source": [
        "ConfusionMatrixDisplay.from_predictions(y_train, y_train_bow_predict)"
      ],
      "metadata": {
        "colab": {
          "base_uri": "https://localhost:8080/"
        },
        "id": "hXkZ-wdlmwNh",
        "outputId": "e96a1158-4a6f-451c-9cbf-0365ee72713b"
      },
      "execution_count": null,
      "outputs": [
        {
          "output_type": "execute_result",
          "data": {
            "text/plain": [
              "<sklearn.metrics._plot.confusion_matrix.ConfusionMatrixDisplay at 0x7f498c3fb410>"
            ]
          },
          "metadata": {},
          "execution_count": 50
        }
      ]
    },
    {
      "cell_type": "code",
      "source": [
        "ConfusionMatrixDisplay.from_predictions(y_test, y_test_bow_predict)"
      ],
      "metadata": {
        "colab": {
          "base_uri": "https://localhost:8080/"
        },
        "id": "IzzdnRmumxeS",
        "outputId": "46963af7-ce04-4b46-f76a-c788998ea774"
      },
      "execution_count": null,
      "outputs": [
        {
          "output_type": "execute_result",
          "data": {
            "text/plain": [
              "<sklearn.metrics._plot.confusion_matrix.ConfusionMatrixDisplay at 0x7f498faec3d0>"
            ]
          },
          "metadata": {},
          "execution_count": 16
        }
      ]
    },
    {
      "cell_type": "code",
      "source": [
        "if len(bow_model.classes_) == 2:\n",
        "    print('Precision:', precision_score(y_train, y_train_bow_predict, pos_label = 'suicide'))\n",
        "    print('Recall:', recall_score(y_train, y_train_bow_predict, pos_label = 'suicide'))\n",
        "    print('F1:', f1_score(y_train, y_train_bow_predict, pos_label = 'suicide'))\n",
        "else:\n",
        "    # Para casos no binarios, es común calcular las métricas para cada clase\n",
        "    print('Precision:', precision_score(y_train, y_train_bow_predict, average = None))\n",
        "    print('Recall:', recall_score(y_train, y_train_bow_predict, average = None))\n",
        "    print('F1:', f1_score(y_train, y_train_bow_predict, average = None))"
      ],
      "metadata": {
        "colab": {
          "base_uri": "https://localhost:8080/"
        },
        "id": "roFFmoGCm0ZC",
        "outputId": "f3dc36e8-e7db-4387-f95c-9cacb517f76e"
      },
      "execution_count": null,
      "outputs": [
        {
          "output_type": "stream",
          "name": "stdout",
          "text": [
            "Precision: 0.8091389040597123\n",
            "Recall: 0.9742941485941428\n",
            "F1: 0.884069405859849\n"
          ]
        }
      ]
    },
    {
      "cell_type": "code",
      "source": [
        "if len(bow_model.classes_) == 2:\n",
        "    print('Precision:', precision_score(y_test, y_test_bow_predict, pos_label = 'suicide'))\n",
        "    print('Recall:', recall_score(y_test, y_test_bow_predict, pos_label = 'suicide'))\n",
        "    print('F1:', f1_score(y_test, y_test_bow_predict, pos_label = 'suicide'))\n",
        "else:\n",
        "    # Para casos no binarios, es común calcular las métricas para cada clase\n",
        "    print('Precision:', precision_score(y_test, y_test_bow_predict, average = None))\n",
        "    print('Recall:', recall_score(y_test, y_test_bow_predict, average = None))\n",
        "    print('F1:', f1_score(y_test, y_test_bow_predict, average = None))"
      ],
      "metadata": {
        "colab": {
          "base_uri": "https://localhost:8080/"
        },
        "id": "ESOscJvYm2GL",
        "outputId": "bb3de74d-94b0-4039-80ca-90e90fcc587d"
      },
      "execution_count": null,
      "outputs": [
        {
          "output_type": "stream",
          "name": "stdout",
          "text": [
            "Precision: 0.7930919802356519\n",
            "Recall: 0.9757993803706085\n",
            "F1: 0.8750098283318044\n"
          ]
        }
      ]
    },
    {
      "cell_type": "markdown",
      "source": [
        "### SVM"
      ],
      "metadata": {
        "id": "HB8uldvSnLPf"
      }
    },
    {
      "cell_type": "code",
      "source": [
        "bow_model = SGDClassifier(loss='hinge', alpha=1e-3, max_iter=10, random_state=0)\n",
        "bow_model.fit(X_bow, y_train)"
      ],
      "metadata": {
        "colab": {
          "base_uri": "https://localhost:8080/"
        },
        "id": "iAPiPRzxnNO8",
        "outputId": "0b3134af-463a-490d-a378-0dfea46a2225"
      },
      "execution_count": null,
      "outputs": [
        {
          "output_type": "execute_result",
          "data": {
            "text/plain": [
              "SGDClassifier(alpha=0.001, max_iter=10, random_state=0)"
            ]
          },
          "metadata": {},
          "execution_count": 19
        }
      ]
    },
    {
      "cell_type": "code",
      "source": [
        "y_train_bow_predict = bow_model.predict(X_bow)\n",
        "y_test_bow_predict = bow_model.predict(bow.transform(X_test))"
      ],
      "metadata": {
        "id": "kw3LVMhnnSP9"
      },
      "execution_count": null,
      "outputs": []
    },
    {
      "cell_type": "code",
      "source": [
        "ConfusionMatrixDisplay.from_predictions(y_train, y_train_bow_predict)"
      ],
      "metadata": {
        "colab": {
          "base_uri": "https://localhost:8080/"
        },
        "id": "IVpBZagNnUHf",
        "outputId": "9dc75a28-7fd1-4555-bd5f-c1bbd1dd97cd"
      },
      "execution_count": null,
      "outputs": [
        {
          "output_type": "execute_result",
          "data": {
            "text/plain": [
              "<sklearn.metrics._plot.confusion_matrix.ConfusionMatrixDisplay at 0x7f498fba9210>"
            ]
          },
          "metadata": {},
          "execution_count": 21
        }
      ]
    },
    {
      "cell_type": "code",
      "source": [
        "ConfusionMatrixDisplay.from_predictions(y_test, y_test_bow_predict)"
      ],
      "metadata": {
        "colab": {
          "base_uri": "https://localhost:8080/"
        },
        "id": "OxetmlXrnV7j",
        "outputId": "168b61f9-dc8b-4f1a-d5ec-4ba46c5c8606"
      },
      "execution_count": null,
      "outputs": [
        {
          "output_type": "execute_result",
          "data": {
            "text/plain": [
              "<sklearn.metrics._plot.confusion_matrix.ConfusionMatrixDisplay at 0x7f498fc5ff10>"
            ]
          },
          "metadata": {},
          "execution_count": 22
        }
      ]
    },
    {
      "cell_type": "code",
      "source": [
        "if len(bow_model.classes_) == 2:\n",
        "    print('Precision:', precision_score(y_train, y_train_bow_predict, pos_label = 'suicide'))\n",
        "    print('Recall:', recall_score(y_train, y_train_bow_predict, pos_label = 'suicide'))\n",
        "    print('F1:', f1_score(y_train, y_train_bow_predict, pos_label = 'suicide'))\n",
        "else:\n",
        "    # Para casos no binarios, es común calcular las métricas para cada clase\n",
        "    print('Precision:', precision_score(y_train, y_train_bow_predict, average = None))\n",
        "    print('Recall:', recall_score(y_train, y_train_bow_predict, average = None))\n",
        "    print('F1:', f1_score(y_train, y_train_bow_predict, average = None))"
      ],
      "metadata": {
        "colab": {
          "base_uri": "https://localhost:8080/"
        },
        "id": "-FLzyY7pnYF6",
        "outputId": "41d39b68-5fe4-41eb-f621-df68c8d181d1"
      },
      "execution_count": null,
      "outputs": [
        {
          "output_type": "stream",
          "name": "stdout",
          "text": [
            "Precision: 0.9471070673415775\n",
            "Recall: 0.864061495294324\n",
            "F1: 0.903680381488048\n"
          ]
        }
      ]
    },
    {
      "cell_type": "code",
      "source": [
        "if len(bow_model.classes_) == 2:\n",
        "    print('Precision:', precision_score(y_test, y_test_bow_predict, pos_label = 'suicide'))\n",
        "    print('Recall:', recall_score(y_test, y_test_bow_predict, pos_label = 'suicide'))\n",
        "    print('F1:', f1_score(y_test, y_test_bow_predict, pos_label = 'suicide'))\n",
        "else:\n",
        "    # Para casos no binarios, es común calcular las métricas para cada clase\n",
        "    print('Precision:', precision_score(y_test, y_test_bow_predict, average = None))\n",
        "    print('Recall:', recall_score(y_test, y_test_bow_predict, average = None))\n",
        "    print('F1:', f1_score(y_test, y_test_bow_predict, average = None))"
      ],
      "metadata": {
        "colab": {
          "base_uri": "https://localhost:8080/"
        },
        "id": "8SWpauSjnZ6r",
        "outputId": "624c0759-d078-4bab-c014-830e5612562a"
      },
      "execution_count": null,
      "outputs": [
        {
          "output_type": "stream",
          "name": "stdout",
          "text": [
            "Precision: 0.9406865861411315\n",
            "Recall: 0.8649675571403519\n",
            "F1: 0.90123945549228\n"
          ]
        }
      ]
    },
    {
      "cell_type": "markdown",
      "source": [
        "### Passive Aggressive Classifier"
      ],
      "metadata": {
        "id": "ukHlXdvKFhSb"
      }
    },
    {
      "cell_type": "code",
      "source": [
        "bow_model = PassiveAggressiveClassifier(random_state=8)\n",
        "bow_model.fit(X_bow, y_train)"
      ],
      "metadata": {
        "colab": {
          "base_uri": "https://localhost:8080/"
        },
        "id": "OURhxs3qFaJ8",
        "outputId": "da8cbc13-b536-4f35-fbba-bca024dccf9a"
      },
      "execution_count": null,
      "outputs": [
        {
          "output_type": "execute_result",
          "data": {
            "text/plain": [
              "PassiveAggressiveClassifier(random_state=8)"
            ]
          },
          "metadata": {},
          "execution_count": 25
        }
      ]
    },
    {
      "cell_type": "code",
      "source": [
        "y_train_bow_predict = bow_model.predict(X_bow)\n",
        "y_test_bow_predict = bow_model.predict(bow.transform(X_test))"
      ],
      "metadata": {
        "id": "AYikhnHfFgsl"
      },
      "execution_count": null,
      "outputs": []
    },
    {
      "cell_type": "code",
      "source": [
        "ConfusionMatrixDisplay.from_predictions(y_train, y_train_bow_predict)"
      ],
      "metadata": {
        "colab": {
          "base_uri": "https://localhost:8080/"
        },
        "id": "dc9shh54FoYi",
        "outputId": "75181d85-bfe9-452b-aa26-7d5412fbc7c6"
      },
      "execution_count": null,
      "outputs": [
        {
          "output_type": "execute_result",
          "data": {
            "text/plain": [
              "<sklearn.metrics._plot.confusion_matrix.ConfusionMatrixDisplay at 0x7f498f6356d0>"
            ]
          },
          "metadata": {},
          "execution_count": 27
        }
      ]
    },
    {
      "cell_type": "code",
      "source": [
        "ConfusionMatrixDisplay.from_predictions(y_test, y_test_bow_predict)"
      ],
      "metadata": {
        "colab": {
          "base_uri": "https://localhost:8080/"
        },
        "id": "mR3dQQQyFqCR",
        "outputId": "17790fc4-bb3d-4fc7-e08d-e9a4adc15949"
      },
      "execution_count": null,
      "outputs": [
        {
          "output_type": "execute_result",
          "data": {
            "text/plain": [
              "<sklearn.metrics._plot.confusion_matrix.ConfusionMatrixDisplay at 0x7f498f948e10>"
            ]
          },
          "metadata": {},
          "execution_count": 28
        }
      ]
    },
    {
      "cell_type": "code",
      "source": [
        "if len(bow_model.classes_) == 2:\n",
        "    print('Precision:', precision_score(y_train, y_train_bow_predict, pos_label = 'suicide'))\n",
        "    print('Recall:', recall_score(y_train, y_train_bow_predict, pos_label = 'suicide'))\n",
        "    print('F1:', f1_score(y_train, y_train_bow_predict, pos_label = 'suicide'))\n",
        "else:\n",
        "    # Para casos no binarios, es común calcular las métricas para cada clase\n",
        "    print('Precision:', precision_score(y_train, y_train_bow_predict, average = None))\n",
        "    print('Recall:', recall_score(y_train, y_train_bow_predict, average = None))\n",
        "    print('F1:', f1_score(y_train, y_train_bow_predict, average = None))"
      ],
      "metadata": {
        "colab": {
          "base_uri": "https://localhost:8080/"
        },
        "id": "MZx0OzXJFrve",
        "outputId": "8f3dbcfc-5038-498f-d8c1-0e09de5bcfa6"
      },
      "execution_count": null,
      "outputs": [
        {
          "output_type": "stream",
          "name": "stdout",
          "text": [
            "Precision: 0.9479403552203576\n",
            "Recall: 0.9624861167942947\n",
            "F1: 0.955157861151799\n"
          ]
        }
      ]
    },
    {
      "cell_type": "code",
      "source": [
        "if len(bow_model.classes_) == 2:\n",
        "    print('Precision:', precision_score(y_test, y_test_bow_predict, pos_label = 'suicide'))\n",
        "    print('Recall:', recall_score(y_test, y_test_bow_predict, pos_label = 'suicide'))\n",
        "    print('F1:', f1_score(y_test, y_test_bow_predict, pos_label = 'suicide'))\n",
        "else:\n",
        "    # Para casos no binarios, es común calcular las métricas para cada clase\n",
        "    print('Precision:', precision_score(y_test, y_test_bow_predict, average = None))\n",
        "    print('Recall:', recall_score(y_test, y_test_bow_predict, average = None))\n",
        "    print('F1:', f1_score(y_test, y_test_bow_predict, average = None))"
      ],
      "metadata": {
        "colab": {
          "base_uri": "https://localhost:8080/"
        },
        "id": "xCXVRFhPFuW0",
        "outputId": "2fe87e4c-b49b-4358-9a9f-e358d1d712bb"
      },
      "execution_count": null,
      "outputs": [
        {
          "output_type": "stream",
          "name": "stdout",
          "text": [
            "Precision: 0.902163196659514\n",
            "Recall: 0.9093353597942363\n",
            "F1: 0.9057350800582241\n"
          ]
        }
      ]
    },
    {
      "cell_type": "markdown",
      "source": [
        "## Entrenando y evaluando un modelo usado TF-IDF"
      ],
      "metadata": {
        "id": "t9wYjltHmkSj"
      }
    },
    {
      "cell_type": "markdown",
      "source": [
        "### MultinomialNB\n"
      ],
      "metadata": {
        "id": "G_jWpfN6hUZO"
      }
    },
    {
      "cell_type": "code",
      "source": [
        "tfidf_model = MultinomialNB()\n",
        "tfidf_model.fit(X_tfidf, y_train)"
      ],
      "metadata": {
        "colab": {
          "base_uri": "https://localhost:8080/"
        },
        "id": "MUjGr_22p2UK",
        "outputId": "6faf0d8f-fd5d-4e97-effd-eaabec563bb5"
      },
      "execution_count": null,
      "outputs": [
        {
          "output_type": "execute_result",
          "data": {
            "text/plain": [
              "MultinomialNB()"
            ]
          },
          "metadata": {},
          "execution_count": 31
        }
      ]
    },
    {
      "cell_type": "code",
      "source": [
        "y_train_tfidf_predict = tfidf_model.predict(X_tfidf)\n",
        "y_test_tfidf_predict = tfidf_model.predict(tfidf.transform(X_test))"
      ],
      "metadata": {
        "id": "XZugpjQQp6kG"
      },
      "execution_count": null,
      "outputs": []
    },
    {
      "cell_type": "code",
      "source": [
        "ConfusionMatrixDisplay.from_predictions(y_train, y_train_tfidf_predict)"
      ],
      "metadata": {
        "colab": {
          "base_uri": "https://localhost:8080/"
        },
        "id": "KOH_5-gVqBSo",
        "outputId": "81935dce-558f-42d3-d962-c484b5c627f3"
      },
      "execution_count": null,
      "outputs": [
        {
          "output_type": "execute_result",
          "data": {
            "text/plain": [
              "<sklearn.metrics._plot.confusion_matrix.ConfusionMatrixDisplay at 0x7f498c671f10>"
            ]
          },
          "metadata": {},
          "execution_count": 33
        }
      ]
    },
    {
      "cell_type": "code",
      "source": [
        "ConfusionMatrixDisplay.from_predictions(y_test, y_test_tfidf_predict)"
      ],
      "metadata": {
        "colab": {
          "base_uri": "https://localhost:8080/"
        },
        "id": "0gLpfjblqDm0",
        "outputId": "5a76afce-4909-4c8c-e66d-87523449da22"
      },
      "execution_count": null,
      "outputs": [
        {
          "output_type": "execute_result",
          "data": {
            "text/plain": [
              "<sklearn.metrics._plot.confusion_matrix.ConfusionMatrixDisplay at 0x7f498f641f50>"
            ]
          },
          "metadata": {},
          "execution_count": 34
        }
      ]
    },
    {
      "cell_type": "code",
      "source": [
        "if len(tfidf_model.classes_) == 2:\n",
        "    print('Precision:', precision_score(y_train, y_train_tfidf_predict, pos_label = 'suicide'))\n",
        "    print('Recall:', recall_score(y_train, y_train_tfidf_predict, pos_label = 'suicide'))\n",
        "    print('F1:', f1_score(y_train, y_train_tfidf_predict, pos_label = 'suicide'))\n",
        "else:\n",
        "    # Para casos no binarios, es común calcular las métricas para cada clase\n",
        "    print('Precision:', precision_score(y_train, y_train_tfidf_predict, average = None))\n",
        "    print('Recall:', recall_score(y_train, y_train_tfidf_predict, average = None))\n",
        "    print('F1:', f1_score(y_train, y_train_tfidf_predict, average = None))"
      ],
      "metadata": {
        "colab": {
          "base_uri": "https://localhost:8080/"
        },
        "id": "dYY8fWrLqHOQ",
        "outputId": "d07ac18e-03b6-41ec-98d0-4623a7f71aa7"
      },
      "execution_count": null,
      "outputs": [
        {
          "output_type": "stream",
          "name": "stdout",
          "text": [
            "Precision: 0.860558341167868\n",
            "Recall: 0.9631291284269597\n",
            "F1: 0.9089592585441205\n"
          ]
        }
      ]
    },
    {
      "cell_type": "code",
      "source": [
        "if len(tfidf_model.classes_) == 2:\n",
        "    print('Precision:', precision_score(y_test, y_test_tfidf_predict, pos_label = 'suicide'))\n",
        "    print('Recall:', recall_score(y_test, y_test_tfidf_predict, pos_label = 'suicide'))\n",
        "    print('F1:', f1_score(y_test, y_test_tfidf_predict, pos_label = 'suicide'))\n",
        "else:\n",
        "    # Para casos no binarios, es común calcular las métricas para cada clase\n",
        "    print('Precision:', precision_score(y_test, y_test_tfidf_predict, average = None))\n",
        "    print('Recall:', recall_score(y_test, y_test_tfidf_predict, average = None))\n",
        "    print('F1:', f1_score(y_test, y_test_tfidf_predict, average = None))"
      ],
      "metadata": {
        "colab": {
          "base_uri": "https://localhost:8080/"
        },
        "id": "G6lr2vF1qKBe",
        "outputId": "ecc181c9-bdcb-43d6-8fd2-903e65f5c1bb"
      },
      "execution_count": null,
      "outputs": [
        {
          "output_type": "stream",
          "name": "stdout",
          "text": [
            "Precision: 0.8462052997170054\n",
            "Recall: 0.961360846437131\n",
            "F1: 0.900114936237754\n"
          ]
        }
      ]
    },
    {
      "cell_type": "markdown",
      "source": [
        "### SVM"
      ],
      "metadata": {
        "id": "dwH07k7EprbF"
      }
    },
    {
      "cell_type": "code",
      "source": [
        "tfidf_model = SGDClassifier(loss='hinge', alpha=1e-3, max_iter=10, random_state=0)\n",
        "tfidf_model.fit(X_tfidf, y_train)"
      ],
      "metadata": {
        "colab": {
          "base_uri": "https://localhost:8080/"
        },
        "id": "yhOjZYsFqPNy",
        "outputId": "425b9c91-4d2b-498a-dab7-8fe660dccac7"
      },
      "execution_count": null,
      "outputs": [
        {
          "output_type": "execute_result",
          "data": {
            "text/plain": [
              "SGDClassifier(alpha=0.001, max_iter=10, random_state=0)"
            ]
          },
          "metadata": {},
          "execution_count": 37
        }
      ]
    },
    {
      "cell_type": "code",
      "source": [
        "y_train_tfidf_predict = tfidf_model.predict(X_tfidf)\n",
        "y_test_tfidf_predict = tfidf_model.predict(tfidf.transform(X_test))"
      ],
      "metadata": {
        "id": "Ch6OF6fOqWg9"
      },
      "execution_count": null,
      "outputs": []
    },
    {
      "cell_type": "code",
      "source": [
        "ConfusionMatrixDisplay.from_predictions(y_train, y_train_tfidf_predict)"
      ],
      "metadata": {
        "colab": {
          "base_uri": "https://localhost:8080/"
        },
        "id": "ZWQ7sPRoqW8_",
        "outputId": "b6dc9d9b-e0d9-4e7e-c2d5-4a0360465271"
      },
      "execution_count": null,
      "outputs": [
        {
          "output_type": "execute_result",
          "data": {
            "text/plain": [
              "<sklearn.metrics._plot.confusion_matrix.ConfusionMatrixDisplay at 0x7f498c671550>"
            ]
          },
          "metadata": {},
          "execution_count": 39
        }
      ]
    },
    {
      "cell_type": "code",
      "source": [
        "ConfusionMatrixDisplay.from_predictions(y_test, y_test_tfidf_predict)"
      ],
      "metadata": {
        "colab": {
          "base_uri": "https://localhost:8080/"
        },
        "id": "7daEEK07qaBI",
        "outputId": "0eb96811-39b1-4b18-96bd-e08d367e5a82"
      },
      "execution_count": null,
      "outputs": [
        {
          "output_type": "execute_result",
          "data": {
            "text/plain": [
              "<sklearn.metrics._plot.confusion_matrix.ConfusionMatrixDisplay at 0x7f498f8d7ed0>"
            ]
          },
          "metadata": {},
          "execution_count": 40
        }
      ]
    },
    {
      "cell_type": "code",
      "source": [
        "if len(tfidf_model.classes_) == 2:\n",
        "    print('Precision:', precision_score(y_train, y_train_tfidf_predict, pos_label = 'suicide'))\n",
        "    print('Recall:', recall_score(y_train, y_train_tfidf_predict, pos_label = 'suicide'))\n",
        "    print('F1:', f1_score(y_train, y_train_tfidf_predict, pos_label = 'suicide'))\n",
        "else:\n",
        "    # Para casos no binarios, es común calcular las métricas para cada clase\n",
        "    print('Precision:', precision_score(y_train, y_train_tfidf_predict, average = None))\n",
        "    print('Recall:', recall_score(y_train, y_train_tfidf_predict, average = None))\n",
        "    print('F1:', f1_score(y_train, y_train_tfidf_predict, average = None))"
      ],
      "metadata": {
        "colab": {
          "base_uri": "https://localhost:8080/"
        },
        "id": "3l2lUeUvqbUs",
        "outputId": "8b2ed0d6-0f6d-4e37-d05e-83bace4e49ab"
      },
      "execution_count": null,
      "outputs": [
        {
          "output_type": "stream",
          "name": "stdout",
          "text": [
            "Precision: 0.9316019328805566\n",
            "Recall: 0.8198690594493482\n",
            "F1: 0.8721715675986599\n"
          ]
        }
      ]
    },
    {
      "cell_type": "code",
      "source": [
        "if len(tfidf_model.classes_) == 2:\n",
        "    print('Precision:', precision_score(y_test, y_test_tfidf_predict, pos_label = 'suicide'))\n",
        "    print('Recall:', recall_score(y_test, y_test_tfidf_predict, pos_label = 'suicide'))\n",
        "    print('F1:', f1_score(y_test, y_test_tfidf_predict, pos_label = 'suicide'))\n",
        "else:\n",
        "    # Para casos no binarios, es común calcular las métricas para cada clase\n",
        "    print('Precision:', precision_score(y_test, y_test_tfidf_predict, average = None))\n",
        "    print('Recall:', recall_score(y_test, y_test_tfidf_predict, average = None))\n",
        "    print('F1:', f1_score(y_test, y_test_tfidf_predict, average = None))"
      ],
      "metadata": {
        "colab": {
          "base_uri": "https://localhost:8080/"
        },
        "id": "2Tvk0IA4qdLQ",
        "outputId": "460599b9-cc97-4c07-9fe5-6e19227b9ef3"
      },
      "execution_count": null,
      "outputs": [
        {
          "output_type": "stream",
          "name": "stdout",
          "text": [
            "Precision: 0.9278992796417678\n",
            "Recall: 0.8357982112585491\n",
            "F1: 0.8794439660474842\n"
          ]
        }
      ]
    },
    {
      "cell_type": "markdown",
      "source": [
        "### Passive Aggressive Classifier"
      ],
      "metadata": {
        "id": "GAdOelrbF9gH"
      }
    },
    {
      "cell_type": "code",
      "source": [
        "tfidf_model = PassiveAggressiveClassifier(random_state=8)\n",
        "tfidf_model.fit(X_tfidf, y_train)"
      ],
      "metadata": {
        "colab": {
          "base_uri": "https://localhost:8080/"
        },
        "id": "iP7RqOpQF4JF",
        "outputId": "e6700b44-4617-4c9f-e256-f99dd5d63672"
      },
      "execution_count": null,
      "outputs": [
        {
          "output_type": "execute_result",
          "data": {
            "text/plain": [
              "PassiveAggressiveClassifier(random_state=8)"
            ]
          },
          "metadata": {},
          "execution_count": 43
        }
      ]
    },
    {
      "cell_type": "code",
      "source": [
        "y_train_tfidf_predict = tfidf_model.predict(X_tfidf)\n",
        "y_test_tfidf_predict = tfidf_model.predict(tfidf.transform(X_test))"
      ],
      "metadata": {
        "id": "fgdKsXKUF8qK"
      },
      "execution_count": null,
      "outputs": []
    },
    {
      "cell_type": "code",
      "source": [
        "ConfusionMatrixDisplay.from_predictions(y_train, y_train_tfidf_predict)"
      ],
      "metadata": {
        "colab": {
          "base_uri": "https://localhost:8080/"
        },
        "id": "Dt3-hGlLGVcK",
        "outputId": "d9bc50b3-86b8-4d96-94b2-d814444ba6f6"
      },
      "execution_count": null,
      "outputs": [
        {
          "output_type": "execute_result",
          "data": {
            "text/plain": [
              "<sklearn.metrics._plot.confusion_matrix.ConfusionMatrixDisplay at 0x7f498f7645d0>"
            ]
          },
          "metadata": {},
          "execution_count": 45
        }
      ]
    },
    {
      "cell_type": "code",
      "source": [
        "ConfusionMatrixDisplay.from_predictions(y_test, y_test_tfidf_predict)"
      ],
      "metadata": {
        "colab": {
          "base_uri": "https://localhost:8080/"
        },
        "id": "VzkA3NYzGXVD",
        "outputId": "3f27fe3f-3730-482b-ca40-c7e48241a223"
      },
      "execution_count": null,
      "outputs": [
        {
          "output_type": "execute_result",
          "data": {
            "text/plain": [
              "<sklearn.metrics._plot.confusion_matrix.ConfusionMatrixDisplay at 0x7f498fad23d0>"
            ]
          },
          "metadata": {},
          "execution_count": 46
        }
      ]
    },
    {
      "cell_type": "code",
      "source": [
        "if len(tfidf_model.classes_) == 2:\n",
        "    print('Precision:', precision_score(y_train, y_train_tfidf_predict, pos_label = 'suicide'))\n",
        "    print('Recall:', recall_score(y_train, y_train_tfidf_predict, pos_label = 'suicide'))\n",
        "    print('F1:', f1_score(y_train, y_train_tfidf_predict, pos_label = 'suicide'))\n",
        "else:\n",
        "    # Para casos no binarios, es común calcular las métricas para cada clase\n",
        "    print('Precision:', precision_score(y_train, y_train_tfidf_predict, average = None))\n",
        "    print('Recall:', recall_score(y_train, y_train_tfidf_predict, average = None))\n",
        "    print('F1:', f1_score(y_train, y_train_tfidf_predict, average = None))"
      ],
      "metadata": {
        "colab": {
          "base_uri": "https://localhost:8080/"
        },
        "id": "j3sKltP3GbQn",
        "outputId": "1f0c4653-484e-4893-897c-de5d667682fa"
      },
      "execution_count": null,
      "outputs": [
        {
          "output_type": "stream",
          "name": "stdout",
          "text": [
            "Precision: 0.9848164099569312\n",
            "Recall: 0.9857806745776583\n",
            "F1: 0.9852983063473632\n"
          ]
        }
      ]
    },
    {
      "cell_type": "code",
      "source": [
        "if len(tfidf_model.classes_) == 2:\n",
        "    print('Precision:', precision_score(y_test, y_test_tfidf_predict, pos_label = 'suicide'))\n",
        "    print('Recall:', recall_score(y_test, y_test_tfidf_predict, pos_label = 'suicide'))\n",
        "    print('F1:', f1_score(y_test, y_test_tfidf_predict, pos_label = 'suicide'))\n",
        "else:\n",
        "    # Para casos no binarios, es común calcular las métricas para cada clase\n",
        "    print('Precision:', precision_score(y_test, y_test_tfidf_predict, average = None))\n",
        "    print('Recall:', recall_score(y_test, y_test_tfidf_predict, average = None))\n",
        "    print('F1:', f1_score(y_test, y_test_tfidf_predict, average = None))"
      ],
      "metadata": {
        "colab": {
          "base_uri": "https://localhost:8080/"
        },
        "id": "zhSmRbNZGbvE",
        "outputId": "e5da58cc-0da6-4ec7-bbd3-01b979d1ba3b"
      },
      "execution_count": null,
      "outputs": [
        {
          "output_type": "stream",
          "name": "stdout",
          "text": [
            "Precision: 0.9238209672574347\n",
            "Recall: 0.8988718068626877\n",
            "F1: 0.9111756340365016\n"
          ]
        }
      ]
    }
  ],
  "metadata": {
    "colab": {
      "provenance": [],
      "collapsed_sections": [
        "lJKnypY1mqSi",
        "vrgSiwaffF60",
        "MtS6n0oGmZqY",
        "HB8uldvSnLPf",
        "ukHlXdvKFhSb",
        "G_jWpfN6hUZO",
        "dwH07k7EprbF"
      ]
    },
    "kernelspec": {
      "display_name": "Python 3",
      "name": "python3"
    },
    "language_info": {
      "name": "python"
    }
  },
  "nbformat": 4,
  "nbformat_minor": 0
}